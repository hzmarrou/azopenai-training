{
 "cells": [
  {
   "cell_type": "markdown",
   "metadata": {},
   "source": [
    "**Disclaimer:**  The content in these Jupyter Notebooks is aggregated from various online sources dedicated to the documentation of the tools we will be using. Accuracy and completeness are not guaranteed. Use at your own risk and verify critical information independently."
   ]
  },
  {
   "cell_type": "markdown",
   "metadata": {},
   "source": [
    "# Intro to Semantic Kernel\n",
    "\n",
    "Since the release of ChatGPT, Large language models (LLMs) have received a huge amount of attention in both industry and the media; resulting in an unprecedented demand to try and leverage LLMs in almost every conceivable context.\n",
    "\n",
    "Semantic Kernel is an open-source SDK originally developed by Microsoft to power products such as Microsoft 365 Copilot and Bing, designed to make it easy to integrate LLMs into applications. It enables users to leverage LLMs to orchestrate workflows based on natural language queries and commands by making it possible to connect these models with external services that provide additional functionality the model can use to complete tasks.\n",
    "\n",
    "As it was created with the Microsoft ecosystem in mind, many of the complex examples currently available are written in C#, with fewer resources focusing on the Python SDK. In this blog post, we shall demonstrate how to get started with the Semantic Kernel using Python, introducing the key components and exploring how these can be used to perform various tasks.\n",
    "\n",
    "**Important Note**:  Semantic Kernel, like everything related to related to LLMs, is moving incredibly fast. As such, interfaces may change slightly over time; we will try to keep this post updated where we can. Whilst we work for Microsoft, we am not asked to, or compensated for, promoting Semantic Kernel in any way. \n",
    "\n",
    "The packages used were:\n",
    "\n",
    "dependencies:\n",
    "  - python=3.10.1.0\n",
    "  - pip:\n",
    "    - semantic-kernel==0.3.12.dev\n",
    "    - timm==0.9.5\n",
    "    - transformers==4.32.0\n",
    "    - sentence-transformers==2.2.2\n",
    "    - curated-transformers==1.1.0\n",
    "\n",
    "Let's begin with the central component of the library."
   ]
  },
  {
   "cell_type": "markdown",
   "metadata": {},
   "source": [
    "### The Kernel\n",
    "`Kernel`: \"The core, center, or essence of an object or system.\" — Wiktionary\n",
    "\n",
    "One of the key concepts in Semantic Kernel is the kernel itself, which is the main object that we will use to orchestrate our LLM based workflows. Initially, the kernel has very limited functionality; all of its features are largely powered by external components that we will connect to. The kernel then acts as a processing engine that fulfils a request by invoking appropriate components to complete the given task.\n",
    "\n",
    "We can create a kernel as demonstrated below:"
   ]
  },
  {
   "cell_type": "code",
   "execution_count": 1,
   "metadata": {},
   "outputs": [
    {
     "name": "stdout",
     "output_type": "stream",
     "text": [
      "Open AI version: 0.27.9\n"
     ]
    }
   ],
   "source": [
    "import semantic_kernel as sk\n",
    "import os\n",
    "import openai\n",
    "from dotenv import load_dotenv\n",
    "# Load environment variables\n",
    "load_dotenv()\n",
    "\n",
    "# Configure OpenAI API\n",
    "OPENAI_API_TYPE = \"azure\"\n",
    "OPENAI_API_ENDPOINT= os.getenv('OPENAI_API_BASE')\n",
    "OPENAI_API_KEY = os.getenv('OPENAI_API_KEY')\n",
    "OPENAI_API_VERSION = os.getenv('OPENAI_API_VERSION')\n",
    "OPENAI_DEPLOYMENT_NAME = \"gpt-35-turbo-16k\"\n",
    "print(\"Open AI version:\", openai.__version__)\n",
    "\n",
    "kernel = sk.Kernel()"
   ]
  },
  {
   "cell_type": "markdown",
   "metadata": {},
   "source": [
    "### Connectors\n",
    "To make our kernel useful, we need to connect one or more AI models, which enable us to use our kernel to understand and generate natural language; this is done using a connector. Semantic Kernel provides out-of-the-box connectors that make it easy to add AI models from different sources, such as OpenAI, Azure OpenAI, and Hugging Face. These models are then used to provide a service to the kernel.\n",
    "\n",
    "At the time of writing, the following services are supported:\n",
    "\n",
    "text completion service: used to generate natural language\n",
    "chat service: used to create a conversational experience\n",
    "text embedding generation service: used to encode natural language into embeddings\n",
    "Each type of service can support multiple models from different sources at the same time, making it possible to switch between different models, depending on the task and the preference of the user. If no specific service or model is specified, the kernel will default to the first service and model that was defined.\n",
    "\n",
    "We can see all of the currently registered services using the following methods:"
   ]
  },
  {
   "cell_type": "code",
   "execution_count": 2,
   "metadata": {},
   "outputs": [],
   "source": [
    "def print_ai_services(kernel):\n",
    "    print(f\"Text completion services: {kernel.all_text_completion_services()}\")\n",
    "    print(f\"Chat completion services: {kernel.all_chat_services()}\")\n",
    "    print(\n",
    "        f\"Text embedding generation services: {kernel.all_text_embedding_generation_services()}\"\n",
    "    )"
   ]
  },
  {
   "cell_type": "code",
   "execution_count": 3,
   "metadata": {},
   "outputs": [
    {
     "name": "stdout",
     "output_type": "stream",
     "text": [
      "Text completion services: []\n",
      "Chat completion services: []\n",
      "Text embedding generation services: []\n"
     ]
    }
   ],
   "source": [
    "print_ai_services(kernel)"
   ]
  },
  {
   "cell_type": "markdown",
   "metadata": {},
   "source": [
    "As expected, we don't currently have any connected services! Let's change that.\n",
    "Here, I will start by accessing a `gpt-35-turbo-16k` model which I deployed using the Azure OpenAI service in my Azure subscription.\n",
    "As this model can be used for both text completion and chat, I will register using both services."
   ]
  },
  {
   "cell_type": "code",
   "execution_count": 3,
   "metadata": {},
   "outputs": [
    {
     "data": {
      "text/plain": [
       "<semantic_kernel.kernel.Kernel at 0x19685a94df0>"
      ]
     },
     "execution_count": 3,
     "metadata": {},
     "output_type": "execute_result"
    }
   ],
   "source": [
    "from semantic_kernel.connectors.ai.open_ai import (\n",
    "    AzureChatCompletion,\n",
    "    OpenAITextEmbedding,\n",
    ")\n",
    "kernel.add_text_embedding_generation_service(\n",
    "            \"openai-embedding\",\n",
    "            OpenAITextEmbedding(\n",
    "                model_id= \"text-embedding-ada-002\",\n",
    "                api_key=OPENAI_API_KEY,\n",
    "                endpoint=OPENAI_API_ENDPOINT,\n",
    "                api_type=OPENAI_API_TYPE,\n",
    "                api_version=OPENAI_API_VERSION,\n",
    "            ),\n",
    ")\n",
    "\n",
    "\n",
    "gpt35_chat_service = AzureChatCompletion(\n",
    "    deployment_name=OPENAI_DEPLOYMENT_NAME,\n",
    "    endpoint=OPENAI_API_ENDPOINT,\n",
    "    api_key=OPENAI_API_KEY,\n",
    ")\n",
    "\n",
    "kernel.add_chat_service(\"azure_gpt35_chat_completion\", gpt35_chat_service)\n"
   ]
  },
  {
   "cell_type": "markdown",
   "metadata": {},
   "source": [
    "We can see that the chat service has been registered as both a text completion and a chat completion service."
   ]
  },
  {
   "cell_type": "code",
   "execution_count": 5,
   "metadata": {},
   "outputs": [
    {
     "name": "stdout",
     "output_type": "stream",
     "text": [
      "Text completion services: ['azure_gpt35_chat_completion']\n",
      "Chat completion services: ['azure_gpt35_chat_completion']\n",
      "Text embedding generation services: ['openai-embedding']\n"
     ]
    }
   ],
   "source": [
    "print_ai_services(kernel)"
   ]
  },
  {
   "cell_type": "markdown",
   "metadata": {},
   "source": [
    "### Semantic functions"
   ]
  },
  {
   "cell_type": "markdown",
   "metadata": {},
   "source": [
    "The way to interact with a LLM through Semantic Kernel is to create a Semantic Function. A semantic function expects a natural language input and uses an LLM to interpret what is being asked, then act accordingly to return an appropriate response. For example, a semantic function could be used for tasks such as text generation, summarization, sentiment analysis, and question answering.\n",
    "\n",
    "In Semantic Kernel, a semantic function is composed of two components:\n",
    "\n",
    "**Prompt Template**: the natural language query or command that will be sent to the LLM\n",
    "\n",
    "**Configuration object:** contains the settings and options for the semantic function, such as the service that it should use, the parameters it should expect, and the description of what the function does.\n",
    "\n",
    "The simplest way to get started is by using the kernel's `create_semantic_function` method, which accepts fixed arguments such as `temperature` and `max_tokens` which are usually required by LLMs and uses these to build a config for us.\n",
    "\n",
    "To illustrate this, let's create a simple prompt:"
   ]
  },
  {
   "cell_type": "code",
   "execution_count": 6,
   "metadata": {},
   "outputs": [],
   "source": [
    "prompt = \"\"\"\n",
    "{{$input}} is the capital city of\n",
    "\"\"\"\n",
    "\n",
    "generate_capital_city_text = kernel.create_semantic_function(\n",
    "    prompt, max_tokens=100, temperature=0, top_p=0\n",
    ")"
   ]
  },
  {
   "cell_type": "markdown",
   "metadata": {},
   "source": [
    "Here, we have used the `{{$}}` syntax to represent an argument that will be injected into our prompt. Whilst we shall see many more examples of this throughout this post, a comprehensive guide to templating syntax can be found in the documentation.\n",
    "\n",
    "We can inspect some details about our semantic function as demonstrated below:"
   ]
  },
  {
   "cell_type": "code",
   "execution_count": 7,
   "metadata": {},
   "outputs": [
    {
     "data": {
      "text/plain": [
       "FunctionView(name='f_5b8f9424_b441_431a_9e20_1b494d6437c7', skill_name='_GLOBAL_FUNCTIONS_', description='Generic function, unknown purpose', is_semantic=True, parameters=[ParameterView(name='input', description='', default_value='')], is_asynchronous=True)"
      ]
     },
     "execution_count": 7,
     "metadata": {},
     "output_type": "execute_result"
    }
   ],
   "source": [
    "generate_capital_city_text.describe()"
   ]
  },
  {
   "cell_type": "markdown",
   "metadata": {},
   "source": [
    "Here, we can see that it is been given a generic description, as we did not provide this.\n",
    "\n",
    "Now, we can use our function simply by calling it:"
   ]
  },
  {
   "cell_type": "code",
   "execution_count": 8,
   "metadata": {},
   "outputs": [],
   "source": [
    "response = generate_capital_city_text(\"Paris\")"
   ]
  },
  {
   "cell_type": "markdown",
   "metadata": {},
   "source": [
    "Alternatively, most of the kernel methods support async invocation using [Asyncio](https://docs.python.org/3/library/asyncio.html). As many of our connected services are likely to be calling external APIs, invoking asynchronously should provide a performance boost when using a semantic function in an application running on an event loop.\n",
    "We can do this as follows."
   ]
  },
  {
   "cell_type": "code",
   "execution_count": 9,
   "metadata": {},
   "outputs": [],
   "source": [
    "response = await generate_capital_city_text.invoke_async(\"Paris\")"
   ]
  },
  {
   "cell_type": "markdown",
   "metadata": {},
   "source": [
    "The response object contains valuable information about our function call, such as whether an error occurred and what that was; provided everything worked as expected, we can access our result using `response.result`"
   ]
  },
  {
   "cell_type": "code",
   "execution_count": 10,
   "metadata": {},
   "outputs": [
    {
     "data": {
      "text/plain": [
       "'France.'"
      ]
     },
     "execution_count": 10,
     "metadata": {},
     "output_type": "execute_result"
    }
   ],
   "source": [
    "response.result"
   ]
  },
  {
   "cell_type": "markdown",
   "metadata": {},
   "source": [
    "If we print our response, the result is accessed for us."
   ]
  },
  {
   "cell_type": "code",
   "execution_count": 11,
   "metadata": {},
   "outputs": [
    {
     "name": "stdout",
     "output_type": "stream",
     "text": [
      "France.\n"
     ]
    }
   ],
   "source": [
    "print(response)"
   ]
  },
  {
   "cell_type": "markdown",
   "metadata": {},
   "source": [
    "Here, we can see that our function has worked!\n",
    "One thing to watch out for is silent failures. The way semantic kernel works is by passing a context object between functions which is constantly updated."
   ]
  },
  {
   "cell_type": "code",
   "execution_count": 12,
   "metadata": {},
   "outputs": [
    {
     "data": {
      "text/plain": [
       "semantic_kernel.orchestration.sk_context.SKContext"
      ]
     },
     "execution_count": 12,
     "metadata": {},
     "output_type": "execute_result"
    }
   ],
   "source": [
    "type(response)"
   ]
  },
  {
   "cell_type": "markdown",
   "metadata": {},
   "source": [
    "This means that, if we have a single function and this fails, sometimes the input is returned. We can demonstrate this by setting a parameter incorrectly."
   ]
  },
  {
   "cell_type": "code",
   "execution_count": 13,
   "metadata": {},
   "outputs": [],
   "source": [
    "generate_capital_city_text_error = kernel.create_semantic_function(\n",
    "    prompt, max_tokens=100, temperature=\"incorrect_param\", top_p=0\n",
    ")\n",
    "error_response = generate_capital_city_text_error(\"Paris\")"
   ]
  },
  {
   "cell_type": "code",
   "execution_count": 14,
   "metadata": {},
   "outputs": [
    {
     "data": {
      "text/plain": [
       "'Paris'"
      ]
     },
     "execution_count": 14,
     "metadata": {},
     "output_type": "execute_result"
    }
   ],
   "source": [
    "error_response.result"
   ]
  },
  {
   "cell_type": "markdown",
   "metadata": {},
   "source": [
    "Here, we can explicitly check for an error, as follows."
   ]
  },
  {
   "cell_type": "code",
   "execution_count": 15,
   "metadata": {},
   "outputs": [
    {
     "data": {
      "text/plain": [
       "True"
      ]
     },
     "execution_count": 15,
     "metadata": {},
     "output_type": "execute_result"
    }
   ],
   "source": [
    "error_response.error_occurred"
   ]
  },
  {
   "cell_type": "code",
   "execution_count": 16,
   "metadata": {},
   "outputs": [
    {
     "data": {
      "text/plain": [
       "'(<ErrorCodes.ServiceError: 6>, \\'OpenAI service failed to complete the chat\\', InvalidRequestError(message=\"\\'incorrect_param\\' is not of type \\'number\\' - \\'temperature\\'\", param=None, code=None, http_status=400, request_id=None))'"
      ]
     },
     "execution_count": 16,
     "metadata": {},
     "output_type": "execute_result"
    }
   ],
   "source": [
    "error_response.last_error_description"
   ]
  },
  {
   "cell_type": "markdown",
   "metadata": {},
   "source": [
    "This is clear if we print the response but, without appropriate checks, this can lead to confusing results when accessing results in or applications!"
   ]
  },
  {
   "cell_type": "code",
   "execution_count": 17,
   "metadata": {},
   "outputs": [
    {
     "name": "stdout",
     "output_type": "stream",
     "text": [
      "Error: (<ErrorCodes.ServiceError: 6>, 'OpenAI service failed to complete the chat', InvalidRequestError(message=\"'incorrect_param' is not of type 'number' - 'temperature'\", param=None, code=None, http_status=400, request_id=None))\n"
     ]
    }
   ],
   "source": [
    "print(error_response)"
   ]
  },
  {
   "cell_type": "markdown",
   "metadata": {},
   "source": [
    "### Creating a Semantic Function Config"
   ]
  },
  {
   "cell_type": "markdown",
   "metadata": {},
   "source": [
    "Whilst `create_semantic_function` is useful to get us started, it doesn't expose many of the options that we require for more complex cases; such as specifying the model that we would like to use, or custom arguments that we may require.\n",
    "\n",
    "To illustrate this, let's register another text completion service, and create a config which enables us to specify that we would like to use our new service. For our second completion service, let's use a model from the Hugging Face transformers library. To do this, we use the `HuggingFaceTextCompletion` connector.\n",
    "\n",
    "Here, as we will be running the model locally, we haveselected GPT2, an older member of the GPT model family, which should be able to run quickly easily on most hardware."
   ]
  },
  {
   "cell_type": "code",
   "execution_count": 31,
   "metadata": {},
   "outputs": [
    {
     "data": {
      "text/plain": [
       "<semantic_kernel.kernel.Kernel at 0x19685a94df0>"
      ]
     },
     "execution_count": 31,
     "metadata": {},
     "output_type": "execute_result"
    }
   ],
   "source": [
    "from semantic_kernel.connectors.ai.hugging_face import HuggingFaceTextCompletion\n",
    "\n",
    "hf_model = HuggingFaceTextCompletion(\"gpt2\", task=\"text-generation\")\n",
    "kernel.add_text_completion_service(\"hf_gpt2_text_completion\", hf_model)"
   ]
  },
  {
   "cell_type": "markdown",
   "metadata": {},
   "source": [
    "Now, let's create our config object. Probabily the easiest way to do this is by creating a dictionary, and loading the config from this; this way, we can save our configuration to a json file if needed.\n",
    "\n",
    "We can do this using the format below:"
   ]
  },
  {
   "cell_type": "code",
   "execution_count": null,
   "metadata": {},
   "outputs": [],
   "source": [
    "hf_config_dict = {\n",
    "    \"schema\": 1,\n",
    "    # The type of prompt\n",
    "    \"type\": \"completion\",\n",
    "    # A description of what the semantic function does\n",
    "    \"description\": \"Provides information about a capital city, which is given as an input, using the GPT2 model\",\n",
    "    # Specifies which model service(s) to use\n",
    "    \"default_services\": [\"hf_gpt2_text_completion\"],\n",
    "    # The parameters that will be passed to the connector and model service\n",
    "    \"completion\": {\n",
    "        \"temperature\": 0.01,\n",
    "        \"top_p\": 1,\n",
    "        \"max_tokens\": 256,\n",
    "        \"number_of_responses\": 1,\n",
    "    },\n",
    "    # Defines the variables that are used inside of the prompt\n",
    "    \"input\": {\n",
    "        \"parameters\": [\n",
    "            {\n",
    "                \"name\": \"input\",\n",
    "                \"description\": \"The name of the capital city\",\n",
    "                \"defaultValue\": \"London\",\n",
    "            }\n",
    "        ]\n",
    "    },\n",
    "}"
   ]
  },
  {
   "cell_type": "markdown",
   "metadata": {},
   "source": [
    "Now, we can load our config directly into a `PromptTemplateConfig` object."
   ]
  },
  {
   "cell_type": "code",
   "execution_count": 34,
   "metadata": {},
   "outputs": [],
   "source": [
    "from semantic_kernel import PromptTemplateConfig\n",
    "\n",
    "prompt_template_config = PromptTemplateConfig.from_dict(hf_config_dict)"
   ]
  },
  {
   "cell_type": "markdown",
   "metadata": {},
   "source": [
    "Now, we have our prompt config, let's create our prompt. Previously, we did this using a string, but Semantic Kernel provides some template classes to provide more structure around this."
   ]
  },
  {
   "cell_type": "code",
   "execution_count": 35,
   "metadata": {},
   "outputs": [],
   "source": [
    "from semantic_kernel import PromptTemplate\n",
    "\n",
    "prompt_template = sk.PromptTemplate(\n",
    "    template=\"{{$input}} is the capital city of\",\n",
    "    prompt_config=prompt_template_config,\n",
    "    template_engine=kernel.prompt_template_engine,\n",
    ")"
   ]
  },
  {
   "cell_type": "markdown",
   "metadata": {},
   "source": [
    "Finally, we can create our semantic function config, which bundles to keep our prompt and it's config in the same object."
   ]
  },
  {
   "cell_type": "code",
   "execution_count": 36,
   "metadata": {},
   "outputs": [],
   "source": [
    "from semantic_kernel import SemanticFunctionConfig\n",
    "\n",
    "function_config = SemanticFunctionConfig(prompt_template_config, prompt_template)"
   ]
  },
  {
   "cell_type": "markdown",
   "metadata": {},
   "source": [
    "As there are a few steps involved here, let's gather these into a function for convenience."
   ]
  },
  {
   "cell_type": "code",
   "execution_count": 37,
   "metadata": {},
   "outputs": [],
   "source": [
    "from semantic_kernel import PromptTemplateConfig, SemanticFunctionConfig, PromptTemplate\n",
    "def create_semantic_function_config(prompt_template, prompt_config_dict, kernel):\n",
    "    prompt_template_config = PromptTemplateConfig.from_dict(prompt_config_dict)\n",
    "    prompt_template = sk.PromptTemplate(\n",
    "        template=prompt_template,\n",
    "        prompt_config=prompt_template_config,\n",
    "        template_engine=kernel.prompt_template_engine,\n",
    "    )\n",
    "    return SemanticFunctionConfig(prompt_template_config, prompt_template)"
   ]
  },
  {
   "cell_type": "markdown",
   "metadata": {},
   "source": [
    "Now, we can register our semantic function, using our defined config, as demonstrated below:"
   ]
  },
  {
   "cell_type": "code",
   "execution_count": 38,
   "metadata": {},
   "outputs": [],
   "source": [
    "gpt2_complete = kernel.register_semantic_function(\n",
    "    skill_name=\"GPT2Complete\",\n",
    "    function_name=\"gpt2_complete\",\n",
    "    function_config=create_semantic_function_config(\n",
    "        \"{{$input}} is the capital city of\", hf_config_dict, kernel\n",
    "    ),\n",
    ")"
   ]
  },
  {
   "cell_type": "code",
   "execution_count": 39,
   "metadata": {},
   "outputs": [],
   "source": [
    "response = gpt2_complete(\"Paris\")"
   ]
  },
  {
   "cell_type": "code",
   "execution_count": 40,
   "metadata": {},
   "outputs": [
    {
     "name": "stdout",
     "output_type": "stream",
     "text": [
      "Paris is the capital city of the European Union.\n",
      "\n",
      "The EU's top diplomat, Federica Mogherini, said the EU was \"deeply concerned\" by the \"unacceptable\" treatment of migrants in the EU.\n",
      "\n",
      "\"We are deeply concerned by the treatment of migrants in the EU,\" she said.\n",
      "\n",
      "\"We are also deeply concerned by the fact that the EU is not doing its job and is not doing its job properly.\n",
      "\n",
      "\"We are also deeply concerned by the fact that the EU is not doing its job and is not doing its job properly.\"\n",
      "\n",
      "The EU's top diplomat, Federica Mogherini, said the EU was \"deeply concerned\" by the \"unacceptable\" treatment of migrants in the EU\n",
      "\n",
      "\"We are also deeply concerned by the fact that the EU is not doing its job and is not doing its job properly.\"\n",
      "\n",
      "The EU's top diplomat, Federica Mogherini, said the EU was \"deeply concerned\" by the \"unacceptable\" treatment of migrants in the EU\n",
      "\n",
      "\"We are also deeply concerned by the fact that the EU is not doing its job and is not doing its job properly.\"\n",
      "\n",
      "The EU's top diplomat, Federica Mogherini, said the EU was \"\n"
     ]
    }
   ],
   "source": [
    "print(response)"
   ]
  },
  {
   "cell_type": "markdown",
   "metadata": {},
   "source": [
    "### Creating a custom connector\n",
    "\n",
    "Now that we have seen how to create a semantic function and specify which service we would like our function to use. However, until this point, all of the services we have used have relied on out-of-the-box connectors. In some cases, we may wish to use a model from a different library to those currently supported, for which we will need a custom connector. Let's look at how we can do this.\n",
    "\n",
    "As an example, let's use a transformer model from the [curated transformers](https://github.com/explosion/curated-transformers) library.\n",
    "\n",
    "To create a custom connector, we need to subclass `TextCompletionClientBase`, which acts as a thin wrapper around our model. A simple example of how to do this is provided below."
   ]
  },
  {
   "cell_type": "code",
   "execution_count": 41,
   "metadata": {},
   "outputs": [],
   "source": [
    "from typing import List, Optional, Union\n",
    "\n",
    "import torch\n",
    "from curated_transformers.generation import (\n",
    "    AutoGenerator,\n",
    "    SampleGeneratorConfig,\n",
    ")\n",
    "from semantic_kernel.connectors.ai.ai_exception import AIException\n",
    "from semantic_kernel.connectors.ai.complete_request_settings import (\n",
    "    CompleteRequestSettings,\n",
    ")\n",
    "from semantic_kernel.connectors.ai.text_completion_client_base import (\n",
    "    TextCompletionClientBase,\n",
    ")\n",
    "\n",
    "\n",
    "class CuratedTransformersCompletion(TextCompletionClientBase):\n",
    "    def __init__(\n",
    "        self,\n",
    "        model_name: str,\n",
    "        device: Optional[int] = -1,\n",
    "    ) -> None:\n",
    "        \"\"\"\n",
    "        Use a curated transformer model for text completion.\n",
    "\n",
    "        Arguments:\n",
    "            model_name {str}\n",
    "            device_idx {Optional[int]} -- Device to run the model on, -1 for CPU, 0+ for GPU.\n",
    "\n",
    "        Note that this model will be downloaded from the Hugging Face model hub.\n",
    "        \"\"\"\n",
    "        self.model_name = model_name\n",
    "        self.device = (\n",
    "            \"cuda:\" + str(device)\n",
    "            if device >= 0 and torch.cuda.is_available()\n",
    "            else \"cpu\"\n",
    "        )\n",
    "\n",
    "        self.generator = AutoGenerator.from_hf_hub(\n",
    "            name=model_name, device=torch.device(self.device)\n",
    "        )\n",
    "\n",
    "    async def complete_async(\n",
    "        self, prompt: str, request_settings: CompleteRequestSettings\n",
    "    ) -> Union[str, List[str]]:\n",
    "        generator_config = SampleGeneratorConfig(\n",
    "            temperature=request_settings.temperature,\n",
    "            top_p=request_settings.top_p,\n",
    "        )\n",
    "        try:\n",
    "            with torch.no_grad():\n",
    "                result = self.generator([prompt], generator_config)\n",
    "\n",
    "            return result[0]\n",
    "\n",
    "        except Exception as e:\n",
    "            raise AIException(\"CuratedTransformer completion failed\", e)\n",
    "\n",
    "    async def complete_stream_async(\n",
    "        self, prompt: str, request_settings: CompleteRequestSettings\n",
    "    ):\n",
    "        raise NotImplementedError(\n",
    "            \"Streaming is not supported for CuratedTransformersCompletion.\"\n",
    "        )"
   ]
  },
  {
   "cell_type": "markdown",
   "metadata": {},
   "source": [
    "Now, we can register our connector and create a semantic function as demonstrated before. Here, we areusing the `Falcon-7B` model, which will require a GPU to run in a reasonable amount of time."
   ]
  },
  {
   "cell_type": "code",
   "execution_count": 42,
   "metadata": {},
   "outputs": [
    {
     "name": "stderr",
     "output_type": "stream",
     "text": [
      "(…)ae/falcon-7b/resolve/main/tokenizer.json: 100%|██████████| 2.73M/2.73M [00:00<00:00, 5.35MB/s]\n",
      "c:\\Users\\hzmarrou\\OneDrive\\azopenai\\azopenai-vbd\\vazopenai\\lib\\site-packages\\huggingface_hub\\file_download.py:147: UserWarning: `huggingface_hub` cache-system uses symlinks by default to efficiently store duplicated files but your machine does not support them in C:\\Users\\hzmarrou\\.cache\\huggingface\\hub. Caching files will still work but in a degraded version that might require more space on your disk. This warning can be disabled by setting the `HF_HUB_DISABLE_SYMLINKS_WARNING` environment variable. For more details, see https://huggingface.co/docs/huggingface_hub/how-to-cache#limitations.\n",
      "To support symlinks on Windows, you either need to activate Developer Mode or to run Python as an administrator. In order to see activate developer mode, see this article: https://docs.microsoft.com/en-us/windows/apps/get-started/enable-your-device-for-development\n",
      "  warnings.warn(message)\n",
      "(…)on-7b/resolve/main/tokenizer_config.json: 100%|██████████| 287/287 [00:00<?, ?B/s] \n",
      "(…)-7b/resolve/main/special_tokens_map.json: 100%|██████████| 281/281 [00:00<?, ?B/s] \n",
      "(…)iiuae/falcon-7b/resolve/main/config.json: 100%|██████████| 1.05k/1.05k [00:00<?, ?B/s]\n",
      "(…)esolve/main/pytorch_model.bin.index.json: 100%|██████████| 16.9k/16.9k [00:00<?, ?B/s]\n",
      "pytorch_model-00002-of-00002.bin: 100%|██████████| 4.48G/4.48G [04:25<00:00, 16.9MB/s]\n",
      "pytorch_model-00001-of-00002.bin: 100%|██████████| 9.95G/9.95G [09:11<00:00, 18.0MB/s]\n",
      "c:\\Users\\hzmarrou\\OneDrive\\azopenai\\azopenai-vbd\\vazopenai\\lib\\site-packages\\torch\\_utils.py:831: UserWarning: TypedStorage is deprecated. It will be removed in the future and UntypedStorage will be the only storage class. This should only matter to you if you are using storages directly.  To access UntypedStorage directly, use tensor.untyped_storage() instead of tensor.storage()\n",
      "  return self.fget.__get__(instance, owner)()\n"
     ]
    }
   ],
   "source": [
    "kernel.add_text_completion_service(\n",
    "    \"falcon-7b_text_completion\",\n",
    "    CuratedTransformersCompletion(model_name=\"tiiuae/falcon-7b\", device=0),\n",
    ")\n",
    "\n",
    "config_dict = {\n",
    "    \"schema\": 1,\n",
    "    # The type of prompt\n",
    "    \"type\": \"completion\",\n",
    "    # A description of what the semantic function does\n",
    "    \"description\": \"Provides information about a capital city, which is given as an input, using the Falcon-7B model\",\n",
    "    # Specifies which model service(s) to use\n",
    "    \"default_services\": [\"falcon-7b_text_completion\"],\n",
    "    # The parameters that will be passed to the connector and model service\n",
    "    \"completion\": {\n",
    "        \"temperature\": 0.01,\n",
    "        \"top_p\": 1,\n",
    "    },\n",
    "    # Defines the variables that are used inside of the prompt\n",
    "    \"input\": {\n",
    "        \"parameters\": [\n",
    "            {\n",
    "                \"name\": \"input\",\n",
    "                \"description\": \"The name of the capital city\",\n",
    "                \"defaultValue\": \"London\",\n",
    "            }\n",
    "        ]\n",
    "    },\n",
    "}\n",
    "\n",
    "falcon_complete = kernel.register_semantic_function(\n",
    "    skill_name=\"Falcon7BComplete\",\n",
    "    function_name=\"falcon7b_complete\",\n",
    "    function_config=create_semantic_function_config(\n",
    "        \"{{$input}} is the capital city of\", config_dict, kernel\n",
    "    ),\n",
    ")"
   ]
  },
  {
   "cell_type": "code",
   "execution_count": 43,
   "metadata": {},
   "outputs": [
    {
     "name": "stdout",
     "output_type": "stream",
     "text": [
      "France. It is the most populous city in France and the second most populous city in the European Union. It is also the most visited city in the world.\n",
      "Paris is the capital city of\n",
      "Paris is the capital city of\n",
      "Paris is the capital city of\n",
      "Paris is the capital city of\n",
      "Paris is the capital city of\n",
      "Paris is the capital city of\n",
      "Paris is the capital city of\n",
      "Paris is the capital city of\n",
      "Paris is the capital city of\n",
      "Paris is the capital city of\n",
      "Paris is the capital city of\n",
      "Paris is the capital city of\n",
      "Paris is the capital city of\n",
      "Paris is the capital city of\n",
      "Paris is the capital city of\n",
      "Paris is the capital city of\n",
      "Paris is the capital city of\n",
      "Paris is the capital city of\n",
      "Paris is the capital city of\n",
      "Paris is the capital city of\n",
      "Paris is the capital city of\n",
      "Paris is the capital city of\n",
      "Paris is the capital city of\n",
      "Paris is the capital\n"
     ]
    }
   ],
   "source": [
    "print(falcon_complete(\"Paris\"))"
   ]
  },
  {
   "cell_type": "markdown",
   "metadata": {},
   "source": [
    "Once again, we can see that the generation has worked, but it quickly descends into repetition after it has answered our question.\n",
    "\n",
    "A likely reason for this is the model that we have selected. Commonly, autoregressive transformer models are trained to predict the next word on a large corpus of text; essentially making them powerful autocomplete machines! Here, it appears that it has tried to 'complete' our question, which has resulted in it continuing to generate text, which isn't helpful for us."
   ]
  },
  {
   "cell_type": "markdown",
   "metadata": {},
   "source": [
    "### Using a Chat Service\n",
    "Some LLM models have undergone additional training, to make them more useful to interact with. An example of this process is detailed in [OpenAI's InstructGPT](https://arxiv.org/abs/2203.02155) paper.\n",
    "\n",
    "At a high level, this usually involves adding one or more supervised finetuning steps where, instead of random unstructured text, the model is trained on curated examples of tasks such as question answering and summarisation; these models are usually known as instruction-tuned or chat models.\n",
    "\n",
    "As we already observed how base LLMs can generate more text than we need, let's investigate whether a chat model will perform differently. To use our chat model, we need to update our config to specify an appropriate service and create a new function; we shall use `azure_gpt35_chat_completion` in our case."
   ]
  },
  {
   "cell_type": "code",
   "execution_count": 45,
   "metadata": {},
   "outputs": [],
   "source": [
    "chat_config_dict = {\n",
    "    \"schema\": 1,\n",
    "    # The type of prompt\n",
    "    \"type\": \"completion\",\n",
    "    # A description of what the semantic function does\n",
    "    \"description\": \"Provides information about a capital city, which is given as an input, using the GPT3.5 model\",\n",
    "    # Specifies which model service(s) to use\n",
    "    \"default_services\": [\"azure_gpt35_chat_completion\"],\n",
    "    # The parameters that will be passed to the connector and model service\n",
    "    \"completion\": {\n",
    "        \"temperature\": 0.0,\n",
    "        \"top_p\": 1,\n",
    "        \"max_tokens\": 256,\n",
    "        \"number_of_responses\": 1,\n",
    "        \"presence_penalty\": 0,\n",
    "        \"frequency_penalty\": 0,\n",
    "    },\n",
    "    # Defines the variables that are used inside of the prompt\n",
    "    \"input\": {\n",
    "        \"parameters\": [\n",
    "            {\n",
    "                \"name\": \"input\",\n",
    "                \"description\": \"The name of the capital city\",\n",
    "                \"defaultValue\": \"London\",\n",
    "            }\n",
    "        ]\n",
    "    },\n",
    "}\n",
    "\n",
    "capital_city_chat = kernel.register_semantic_function(\n",
    "    skill_name=\"CapitalCityChat\",\n",
    "    function_name=\"capital_city_chat\",\n",
    "    function_config=create_semantic_function_config(\n",
    "        \"{{$input}} is the capital city of\", chat_config_dict, kernel\n",
    "    ),\n",
    ")"
   ]
  },
  {
   "cell_type": "code",
   "execution_count": 46,
   "metadata": {},
   "outputs": [],
   "source": [
    "response = capital_city_chat(\"Paris\")"
   ]
  },
  {
   "cell_type": "code",
   "execution_count": 47,
   "metadata": {},
   "outputs": [
    {
     "data": {
      "text/plain": [
       "'France.'"
      ]
     },
     "execution_count": 47,
     "metadata": {},
     "output_type": "execute_result"
    }
   ],
   "source": [
    "response.result"
   ]
  },
  {
   "cell_type": "markdown",
   "metadata": {},
   "source": [
    "Excellent, we can see that the chat model has given us a much more concise answer!\n",
    "\n",
    "Previously, as we were using text completion models, we had formatted our prompt as a sentence for the model to complete. However, the instruction tuned models should be able to understand a question, so we may be able to change our prompt to make it a little more flexible. Let's see how we can adjust our prompt with the aim of interacting with the model as if it was a chatbot designed to provide us information about places that we may like to visit.\n",
    "\n",
    "First, let's adjust our function config to make our prompt more generic."
   ]
  },
  {
   "cell_type": "code",
   "execution_count": 48,
   "metadata": {},
   "outputs": [],
   "source": [
    "chatbot = kernel.register_semantic_function(\n",
    "    skill_name=\"Chatbot\",\n",
    "    function_name=\"chatbot\",\n",
    "    function_config=create_semantic_function_config(\n",
    "        \"{{$input}}\", chat_config_dict, kernel\n",
    "    ),\n",
    ")"
   ]
  },
  {
   "cell_type": "markdown",
   "metadata": {},
   "source": [
    "Here, we can see that we are only passing in the user input, so we must phrase our input as a question. Let's try this."
   ]
  },
  {
   "cell_type": "code",
   "execution_count": 49,
   "metadata": {},
   "outputs": [
    {
     "name": "stdout",
     "output_type": "stream",
     "text": [
      "Paris is the capital of France.\n"
     ]
    }
   ],
   "source": [
    "print(chatbot(\"Paris is the capital of which country?\"))"
   ]
  },
  {
   "cell_type": "markdown",
   "metadata": {},
   "source": [
    "Great, that seems like it has worked. Let's try asking a follow up question."
   ]
  },
  {
   "cell_type": "code",
   "execution_count": 50,
   "metadata": {},
   "outputs": [
    {
     "name": "stdout",
     "output_type": "stream",
     "text": [
      "There are plenty of interesting things to do in New York City. Here are a few suggestions:\n",
      "\n",
      "1. Visit iconic landmarks: Explore famous landmarks like the Statue of Liberty, Times Square, Central Park, Empire State Building, Brooklyn Bridge, and Rockefeller Center.\n",
      "\n",
      "2. Museums and art galleries: Discover world-class museums such as the Metropolitan Museum of Art, Museum of Modern Art (MoMA), American Museum of Natural History, Guggenheim Museum, and the Whitney Museum of American Art.\n",
      "\n",
      "3. Broadway shows: Catch a live performance on Broadway, known for its exceptional theater productions. From musicals to plays, there's something for everyone.\n",
      "\n",
      "4. Food and culinary experiences: New York City is a food lover's paradise. Try diverse cuisines from around the world in neighborhoods like Chinatown, Little Italy, and Koreatown. Don't forget to grab a slice of New York-style pizza!\n",
      "\n",
      "5. High Line Park: Walk along the elevated park built on a historic freight rail line. It offers beautiful views of the city, art installations, gardens, and a unique urban experience.\n",
      "\n",
      "6. Explore neighborhoods: Each neighborhood in NYC has its own distinct character. Explore Greenwich Village, SoHo, Williamsburg, Harlem, or the trendy Meatpacking District to experience the city's\n"
     ]
    }
   ],
   "source": [
    "print(chatbot(\"What are some interesting things to do there?\"))"
   ]
  },
  {
   "cell_type": "markdown",
   "metadata": {},
   "source": [
    "We can see that the model has provided a very generic answer, which doesn't take into account our previous question at all. This is expected, as the prompt that the model recieved was `\"What are some interesting things to do there?\"`, we didn't provide any context on where `'there'` is!\n",
    "\n",
    "Let's see how we can extend our approach to make a simple chatbot in the following section."
   ]
  },
  {
   "cell_type": "markdown",
   "metadata": {},
   "source": [
    "#### Making a simple Chatbot\n",
    "Now that we have seen how we can use a chat service, let's explore how we can create a simple chatbot.\n",
    "\n",
    "Our chatbot should be able to do three things:\n",
    "\n",
    "* Know it's purpose and inform us of this\n",
    "\n",
    "* Understand the current conversation context\n",
    "\n",
    "* Reply to our questions\n",
    "Let's adjust our prompt to reflect this."
   ]
  },
  {
   "cell_type": "code",
   "execution_count": 51,
   "metadata": {},
   "outputs": [],
   "source": [
    "chatbot_prompt = \"\"\"\n",
    "\"You are a chatbot to provide information about different cities and countries. \n",
    " For other questions not related to places, you should politely decline to answer the question, stating your purpose\"\n",
    " +++++\n",
    "\n",
    "{{$history}}\n",
    "User: {{$input}}\n",
    "ChatBot: \"\"\""
   ]
  },
  {
   "cell_type": "markdown",
   "metadata": {},
   "source": [
    "Notice that we have added the variable history which will be used to provide previous context to the chatbot. Whilst this is quite a naive approach, as long conversations will quickly cause the prompt to reach the model's maximum context length, it should work for our purposes.\n",
    "\n",
    "So far, we have only used prompts which use a single variable. To use multiple variables we need adust our config as demonstrated below."
   ]
  },
  {
   "cell_type": "code",
   "execution_count": 52,
   "metadata": {},
   "outputs": [],
   "source": [
    "chat_config_dict = {\n",
    "    \"schema\": 1,\n",
    "    # The type of prompt\n",
    "    \"type\": \"completion\",\n",
    "    # A description of what the semantic function does\n",
    "    \"description\": \"A chatbot to provide information about cities and countries\",\n",
    "    # Specifies which model service(s) to use\n",
    "    \"default_services\": [\"azure_gpt35_chat_completion\"],\n",
    "    # The parameters that will be passed to the connector and model service\n",
    "    \"completion\": {\n",
    "        \"temperature\": 0.0,\n",
    "        \"top_p\": 1,\n",
    "        \"max_tokens\": 256,\n",
    "        \"number_of_responses\": 1,\n",
    "        \"presence_penalty\": 0,\n",
    "        \"frequency_penalty\": 0,\n",
    "    },\n",
    "    # Defines the variables that are used inside of the prompt\n",
    "    \"input\": {\n",
    "        \"parameters\": [\n",
    "            {\n",
    "                \"name\": \"input\",\n",
    "                \"description\": \"The input given by the user\",\n",
    "                \"defaultValue\": \"\",\n",
    "            },\n",
    "            {\n",
    "                \"name\": \"history\",\n",
    "                \"description\": \"Previous interactions between the user and chatbot\",\n",
    "                \"defaultValue\": \"\",\n",
    "            },\n",
    "        ]\n",
    "    },\n",
    "}"
   ]
  },
  {
   "cell_type": "markdown",
   "metadata": {},
   "source": [
    "Now, let's use this updated config and prompt to create our chatbot"
   ]
  },
  {
   "cell_type": "code",
   "execution_count": 53,
   "metadata": {},
   "outputs": [],
   "source": [
    "function_config = create_semantic_function_config(\n",
    "    chatbot_prompt, chat_config_dict, kernel\n",
    ")\n",
    "chatbot = kernel.register_semantic_function(\n",
    "    skill_name=\"SimpleChatbot\",\n",
    "    function_name=\"simple_chatbot\",\n",
    "    function_config=function_config,\n",
    ")"
   ]
  },
  {
   "cell_type": "markdown",
   "metadata": {},
   "source": [
    "To pass multiple variables to our semantic function, we need to create a `Context` object, which will store the state of our variables. We can create this, and initialise our history variable, as demonstrated below:"
   ]
  },
  {
   "cell_type": "code",
   "execution_count": 54,
   "metadata": {},
   "outputs": [],
   "source": [
    "context = kernel.create_new_context()\n",
    "context[\"history\"] = \"\""
   ]
  },
  {
   "cell_type": "markdown",
   "metadata": {},
   "source": [
    "As input is a special variable, this will be handled automatically. However, is we decided to change the name of this - for example, to `{{$user_input}}` - this would have to be initialised in the same way.\n",
    "\n",
    "Now, let's create a simple chat function, to update our context after each interaction."
   ]
  },
  {
   "cell_type": "code",
   "execution_count": 55,
   "metadata": {},
   "outputs": [],
   "source": [
    "async def chat(input_text, context, verbose=True):\n",
    "    # Save new message in the context variables\n",
    "    context[\"input\"] = input_text\n",
    "\n",
    "    if verbose:\n",
    "        # print the full prompt before each interaction\n",
    "        print(\"Prompt:\")\n",
    "        print(\"-----\")\n",
    "        # inject the variables into our prompt\n",
    "        print(await function_config.prompt_template.render_async(context))\n",
    "        print(\"-----\")\n",
    "\n",
    "    # Process the user message and get an answer\n",
    "    answer = await chatbot.invoke_async(context=context)\n",
    "\n",
    "    # Show the response\n",
    "    print(f\"ChatBot: {answer}\")\n",
    "\n",
    "    # Append the new interaction to the chat history\n",
    "    context[\"history\"] += f\"\\nUser: {input_text}\\nChatBot: {answer}\\n\""
   ]
  },
  {
   "cell_type": "markdown",
   "metadata": {},
   "source": [
    "Let's try it out!"
   ]
  },
  {
   "cell_type": "code",
   "execution_count": 56,
   "metadata": {},
   "outputs": [
    {
     "name": "stdout",
     "output_type": "stream",
     "text": [
      "Prompt:\n",
      "-----\n",
      "\n",
      "\"You are a chatbot to provide information about different cities and countries. \n",
      " For other questions not related to places, you should politely decline to answer the question, stating your purpose\"\n",
      " +++++\n",
      "\n",
      "\n",
      "User: Paris is the capital of which country?\n",
      "ChatBot: \n",
      "-----\n",
      "ChatBot: Paris is the capital of France.\n"
     ]
    }
   ],
   "source": [
    "await chat(\"Paris is the capital of which country?\", context)"
   ]
  },
  {
   "cell_type": "code",
   "execution_count": 57,
   "metadata": {},
   "outputs": [
    {
     "name": "stdout",
     "output_type": "stream",
     "text": [
      "Prompt:\n",
      "-----\n",
      "\n",
      "\"You are a chatbot to provide information about different cities and countries. \n",
      " For other questions not related to places, you should politely decline to answer the question, stating your purpose\"\n",
      " +++++\n",
      "\n",
      "\n",
      "User: Paris is the capital of which country?\n",
      "ChatBot: Paris is the capital of France.\n",
      "\n",
      "User: Can you tell me about animals?\n",
      "ChatBot: \n",
      "-----\n",
      "ChatBot: I'm sorry, but I am a chatbot specifically designed to provide information about different cities and countries. I am not able to provide information about animals.\n"
     ]
    }
   ],
   "source": [
    "await chat(\"Can you tell me about animals?\", context)"
   ]
  },
  {
   "cell_type": "markdown",
   "metadata": {},
   "source": [
    "#### Using ChatPromptTemplate\n",
    "Whilst we have seen how to make a simple chatbot using a standard prompt template, Semantic Kernel provides a ChatPromptTemplate to simplify things; keeping track of previous interactions for us.\n",
    "\n",
    "Let's use this class to update the function which we used to create our semantic function config."
   ]
  },
  {
   "cell_type": "code",
   "execution_count": 59,
   "metadata": {},
   "outputs": [],
   "source": [
    "from semantic_kernel import (\n",
    "    ChatPromptTemplate,\n",
    "    SemanticFunctionConfig,\n",
    "    PromptTemplateConfig,\n",
    ")\n",
    "\n",
    "\n",
    "def create_semantic_function_chat_config(prompt_template, prompt_config_dict, kernel):\n",
    "    chat_system_message = (\n",
    "        prompt_config_dict.pop(\"system_prompt\")\n",
    "        if \"system_prompt\" in prompt_config_dict\n",
    "        else None\n",
    "    )\n",
    "\n",
    "    prompt_template_config = PromptTemplateConfig.from_dict(prompt_config_dict)\n",
    "    prompt_template_config.completion.token_selection_biases = (\n",
    "        {}\n",
    "    )  # required for https://github.com/microsoft/semantic-kernel/issues/2564\n",
    "\n",
    "    prompt_template = ChatPromptTemplate(\n",
    "        template=prompt_template,\n",
    "        prompt_config=prompt_template_config,\n",
    "        template_engine=kernel.prompt_template_engine,\n",
    "    )\n",
    "\n",
    "    if chat_system_message is not None:\n",
    "        prompt_template.add_system_message(chat_system_message)\n",
    "\n",
    "    return SemanticFunctionConfig(prompt_template_config, prompt_template)"
   ]
  },
  {
   "cell_type": "markdown",
   "metadata": {},
   "source": [
    "As we can see, ChatPromptTemplate provides the option to set a system message at the start of our interaction, so that we don't have to include it in our prompt. To keep everything in the same place, let's add our system prompt to our config dict; as this is not included in the defined schema, we should remove this before using our config to create our PromptTemplateConfig."
   ]
  },
  {
   "cell_type": "code",
   "execution_count": 60,
   "metadata": {},
   "outputs": [],
   "source": [
    "chat_config_dict = {\n",
    "    \"schema\": 1,\n",
    "    # The type of prompt\n",
    "    \"type\": \"completion\",\n",
    "    # A description of what the semantic function does\n",
    "    \"description\": \"A chatbot which provides information about cities and countries\",\n",
    "    # Specifies which model service(s) to use\n",
    "    \"default_services\": [\"azure_gpt35_chat_completion\"],\n",
    "    # The parameters that will be passed to the connector and model service\n",
    "    \"completion\": {\n",
    "        \"temperature\": 0.0,\n",
    "        \"top_p\": 1,\n",
    "        \"max_tokens\": 500,\n",
    "        \"number_of_responses\": 1,\n",
    "        \"presence_penalty\": 0,\n",
    "        \"frequency_penalty\": 0,\n",
    "    },\n",
    "    # Defines the variables that are used inside of the prompt\n",
    "    \"input\": {\n",
    "        \"parameters\": [\n",
    "            {\n",
    "                \"name\": \"input\",\n",
    "                \"description\": \"The input given by the user\",\n",
    "                \"defaultValue\": \"\",\n",
    "            },\n",
    "        ]\n",
    "    },\n",
    "    # Non-schema variable\n",
    "    \"system_prompt\": \"You are a chatbot to provide information about different cities and countries. For other questions not related to places, you should politely decline to answer the question, stating your purpose\",\n",
    "}\n",
    "\n",
    "\n",
    "chatbot = kernel.register_semantic_function(\n",
    "    skill_name=\"Chatbot\",\n",
    "    function_name=\"chatbot\",\n",
    "    function_config=create_semantic_function_chat_config(\n",
    "        \"{{$input}}\", chat_config_dict, kernel\n",
    "    ),\n",
    ")"
   ]
  },
  {
   "cell_type": "code",
   "execution_count": 61,
   "metadata": {},
   "outputs": [
    {
     "name": "stdout",
     "output_type": "stream",
     "text": [
      "Paris is the capital of France. How can I assist you further?\n"
     ]
    }
   ],
   "source": [
    "print(chatbot(\"Paris is the capital of which country?\"))"
   ]
  },
  {
   "cell_type": "code",
   "execution_count": 62,
   "metadata": {},
   "outputs": [
    {
     "name": "stdout",
     "output_type": "stream",
     "text": [
      "Paris offers a wide range of interesting activities and attractions. Here are a few popular ones:\n",
      "\n",
      "1. Visit the Eiffel Tower: This iconic landmark offers stunning views of the city from its observation decks.\n",
      "\n",
      "2. Explore the Louvre Museum: Home to thousands of artworks, including the famous Mona Lisa, the Louvre is a must-visit for art enthusiasts.\n",
      "\n",
      "3. Stroll along the Champs-Élysées: This famous avenue is lined with shops, cafes, and theaters, making it a great place for shopping and people-watching.\n",
      "\n",
      "4. Discover Notre-Dame Cathedral: This Gothic masterpiece is known for its stunning architecture and historical significance.\n",
      "\n",
      "5. Take a boat cruise on the Seine River: Enjoy a leisurely cruise along the Seine River, passing by famous landmarks and enjoying the city's beautiful scenery.\n",
      "\n",
      "6. Visit Montmartre: This bohemian neighborhood is known for its artistic history, charming streets, and the iconic Sacré-Cœur Basilica.\n",
      "\n",
      "7. Explore the Palace of Versailles: Located just outside of Paris, this opulent palace is a UNESCO World Heritage site and offers a glimpse into France's royal history.\n",
      "\n",
      "These are just a few suggestions, but Paris has much more to offer depending on your interests. Is there anything specific you would like to know about Paris?\n"
     ]
    }
   ],
   "source": [
    "print(chatbot(\"What are some interesting things to do there?\"))"
   ]
  },
  {
   "cell_type": "code",
   "execution_count": 63,
   "metadata": {},
   "outputs": [
    {
     "name": "stdout",
     "output_type": "stream",
     "text": [
      "I apologize, but as a chatbot specializing in providing information about cities and countries, I am not equipped to provide detailed information about animals. However, there are many resources available online or at your local library that can provide you with extensive information about various animal species. If you have any questions about cities or countries, I'll be happy to assist you.\n"
     ]
    }
   ],
   "source": [
    "print(chatbot(\"Can you tell me about animals?\"))"
   ]
  },
  {
   "cell_type": "markdown",
   "metadata": {},
   "source": [
    "Here, we can see that we have obtained the same results as from our manual chatbot earlier, with less boilerplate code."
   ]
  },
  {
   "cell_type": "markdown",
   "metadata": {},
   "source": [
    "### Memory\n",
    "When interacting with our chatbot, one of the key aspects that made the experience feel like a useful interaction was that the chatbot was able to retain the context of our previous questions. We did this by giving the chatbot access to memory, leveraging ChatPromptTemplate to handle this for us.\n",
    "\n",
    "Whilst this worked well enough for our simple use case, all of our conversation history was stored in our system's RAM and not persisted anywhere; once we shut down our system, this is gone forever. For more intelligent applications, it can be useful to be able to build and persist both short and long term memory for our models to access.\n",
    "\n",
    "Additionally, in our example, we were feeding all of our previous interactions into our prompt. As models usually have a fixed size context window - which determines how long our prompts can be - this will quickly break down if we start to have lengthy conversations. One way to avoid this is to store our memory as separate 'chunks' and only load information that we think may be relevant into our prompt.\n",
    "\n",
    "Semantic Kernel offers some functionality around how we can incorporate memory into our applications, so let's explore how we can leverage these.\n",
    "\n",
    "As an example, let's extend our chatbot so that it has access to some information that is stored in memory.\n",
    "\n",
    "First, we need some information that may be relevant to our chatbot. Whilst we could manually resarch and curate relevant information, it is quicker to have the model generate some for us! Let's get the model to generate some facts about the city of London. We can do this as follows."
   ]
  },
  {
   "cell_type": "code",
   "execution_count": 64,
   "metadata": {},
   "outputs": [],
   "source": [
    "response = chatbot(\n",
    "    \"\"\"Please provide a comprehensive overview of things to do in London. Structure your answer in 5 paragraphs, based on:\n",
    "- overview\n",
    "- landmarks\n",
    "- history\n",
    "- culture\n",
    "- food\n",
    "\n",
    "Each paragraph should be 100 tokens, do not add titles such as `Overview:` or `Food:` to the paragraphs in your response.\n",
    "\n",
    "Do not acknowledge the question, with a statement like \"Certainly, here's a comprehensive overview of things to do in London\". \n",
    "Do not provide a closing comment.\n",
    "\"\"\"\n",
    ")"
   ]
  },
  {
   "cell_type": "code",
   "execution_count": 65,
   "metadata": {},
   "outputs": [
    {
     "name": "stdout",
     "output_type": "stream",
     "text": [
      "London, the vibrant capital of England, offers a plethora of activities and attractions for visitors to enjoy. With its rich history, iconic landmarks, diverse culture, and delicious food scene, there is something for everyone in this bustling metropolis.\n",
      "\n",
      "London is renowned for its landmarks that showcase its historical and architectural significance. The majestic Tower of London, with its medieval fortress and crown jewels, is a must-visit. The iconic Big Ben and the Houses of Parliament are other notable landmarks that dominate the city's skyline. The magnificent Buckingham Palace, the official residence of the British monarch, is a sight to behold, especially during the Changing of the Guard ceremony.\n",
      "\n",
      "Steeped in history, London has a fascinating past that can be explored through its numerous museums and historical sites. The British Museum houses a vast collection of artifacts from around the world, including the Rosetta Stone. The Tower Bridge Exhibition offers insights into the bridge's construction and provides stunning views of the city. The Churchill War Rooms provide a glimpse into the underground bunker where Winston Churchill and his government operated during World War II.\n",
      "\n",
      "London's cultural scene is diverse and vibrant, with world-class theaters, art galleries, and music venues. The West End is famous for its theater district, showcasing a variety of plays, musicals, and performances. The Tate Modern and the National Gallery are art enthusiasts' havens, housing masterpieces from renowned artists. Camden Market and Covent Garden are bustling with street performers, unique shops, and trendy eateries, offering a taste of London's vibrant culture.\n",
      "\n",
      "London's food scene is a melting pot of flavors from around the world. From traditional English pubs serving fish and chips to Michelin-starred restaurants offering fine dining experiences, there is something to satisfy every palate. Borough Market is a food lover's paradise, offering a wide range of fresh produce, artisanal products, and international cuisines. Brick Lane is famous for its curry houses, while afternoon tea at one of the city's elegant tea rooms is a quintessential British experience.\n",
      "\n",
      "In conclusion, London is a city that seamlessly blends history, culture, and culinary delights. With its iconic landmarks, fascinating history, diverse culture, and mouthwatering food, it offers a truly unforgettable experience for visitors. Whether you're exploring its historical sites, immersing yourself in its cultural offerings, or indulging in its culinary delights, London has something to captivate every traveler.\n"
     ]
    }
   ],
   "source": [
    "london_info = response.result\n",
    "print(london_info)"
   ]
  },
  {
   "cell_type": "markdown",
   "metadata": {},
   "source": [
    "Now that we have some text, so that the model can access only the parts that it needs, let's divide this into chunks. Semantic kernel offers some functionality to do this in it's `text_chunker` module. We can use this as demonstrated below:"
   ]
  },
  {
   "cell_type": "code",
   "execution_count": 66,
   "metadata": {},
   "outputs": [],
   "source": [
    "from semantic_kernel.text import text_chunker as tc\n",
    "\n",
    "chunks = tc.split_plaintext_paragraph([london_info], max_tokens=100)"
   ]
  },
  {
   "cell_type": "code",
   "execution_count": 67,
   "metadata": {},
   "outputs": [
    {
     "data": {
      "text/plain": [
       "11"
      ]
     },
     "execution_count": 67,
     "metadata": {},
     "output_type": "execute_result"
    }
   ],
   "source": [
    "len(chunks)"
   ]
  },
  {
   "cell_type": "code",
   "execution_count": 68,
   "metadata": {},
   "outputs": [
    {
     "data": {
      "text/plain": [
       "\"London's food scene is a melting pot of flavors from around the world. From traditional English pubs serving fish and chips to Michelin-starred restaurants offering fine dining experiences, there is something to satisfy every palate.\""
      ]
     },
     "execution_count": 68,
     "metadata": {},
     "output_type": "execute_result"
    }
   ],
   "source": [
    "chunks[7]"
   ]
  },
  {
   "cell_type": "markdown",
   "metadata": {},
   "source": [
    "We can see that the text has been split into 11 chunks. Depending on the text, we will have to adjust the maximum number of tokens specified for each chunk."
   ]
  },
  {
   "cell_type": "markdown",
   "metadata": {},
   "source": [
    "### Using a Text Embedding Service\n",
    "Now that we have chunked our data, we need to create a representation of each chunk that enables us to calculate relevance between text; we can do this by representing our text as embeddings.\n",
    "\n",
    "To generate embeddings, we need to add a text embedding service to our kernel. Similarly to before, there are various connectors that can be used, depending on the source of the underlying model.\n",
    "\n",
    "First, let's use a text-embedding-ada-002 model deployed in the Azure OpenAI service. This model was trained by OpenAI, and more information about this model can be found in their launch blog post."
   ]
  },
  {
   "cell_type": "code",
   "execution_count": 69,
   "metadata": {},
   "outputs": [],
   "source": [
    "OPENAI_EMBEDDING_DEPLOYMENT = \"text-embedding-ada-002\""
   ]
  },
  {
   "cell_type": "code",
   "execution_count": 70,
   "metadata": {},
   "outputs": [
    {
     "data": {
      "text/plain": [
       "<semantic_kernel.kernel.Kernel at 0x19685a94df0>"
      ]
     },
     "execution_count": 70,
     "metadata": {},
     "output_type": "execute_result"
    }
   ],
   "source": [
    "from semantic_kernel.connectors.ai.open_ai import AzureTextEmbedding\n",
    "\n",
    "kernel.add_text_embedding_generation_service(\n",
    "    \"azure_openai_embedding\",\n",
    "    AzureTextEmbedding(\n",
    "        deployment_name=OPENAI_EMBEDDING_DEPLOYMENT,\n",
    "        endpoint=OPENAI_API_ENDPOINT,\n",
    "        api_key=OPENAI_API_KEY,\n",
    "    ),\n",
    ")"
   ]
  },
  {
   "cell_type": "markdown",
   "metadata": {},
   "source": [
    "Now that we have access to a model that can generate embeddings, we need somewhere to store these. Semantic Kernel provides the concept of a MemoryStore, which is an interface to various persistence providers.\n",
    "\n",
    "For production systems, we would probably want to use a database for our persistence, to keep things simple for our example, we shall use in-memory storage. To use memory, we need to register a memory store with our kernel."
   ]
  },
  {
   "cell_type": "code",
   "execution_count": 71,
   "metadata": {},
   "outputs": [],
   "source": [
    "memory_store = sk.memory.VolatileMemoryStore()\n",
    "kernel.register_memory_store(memory_store=memory_store)"
   ]
  },
  {
   "cell_type": "markdown",
   "metadata": {},
   "source": [
    "Whilst we have used an in-memory memory store to keep things simple for our example, we would probably want to use a database for our persistence when building more complex systems. Semantic Kernel offers connectors to popular storage solutions such as `Azure Cognitive Search`, `CosmosDB`, `Redis`, `Postgres` and many others. As memory stores have a common interface, the only change that would be required would be modifying the connector used, which makes it easy to switch between providers."
   ]
  },
  {
   "cell_type": "markdown",
   "metadata": {},
   "source": [
    "We can now save information to our memory store as follows."
   ]
  },
  {
   "cell_type": "code",
   "execution_count": 72,
   "metadata": {},
   "outputs": [],
   "source": [
    "for i, chunk in enumerate(chunks):\n",
    "    await kernel.memory.save_information_async(\n",
    "        collection=\"London\", id=\"chunk\" + str(i), text=chunk\n",
    "    )"
   ]
  },
  {
   "cell_type": "markdown",
   "metadata": {},
   "source": [
    "Here, we have created a new collection, to group similar documents.\n",
    "\n",
    "We can now query this collection in the following way:"
   ]
  },
  {
   "cell_type": "code",
   "execution_count": 73,
   "metadata": {},
   "outputs": [],
   "source": [
    "results = await kernel.memory.search_async(\n",
    "    \"London\", \"what food should I eat in London?\", limit=2\n",
    ")"
   ]
  },
  {
   "cell_type": "code",
   "execution_count": 74,
   "metadata": {},
   "outputs": [
    {
     "name": "stdout",
     "output_type": "stream",
     "text": [
      "Text: London's food scene is a melting pot of flavors from around the world. From traditional English pubs serving fish and chips to Michelin-starred restaurants offering fine dining experiences, there is something to satisfy every palate. \n",
      "Relevance:0.8774651349493975\n",
      "\n",
      "Text: Borough Market is a food lover's paradise, offering a wide range of fresh produce, artisanal products, and international cuisines. Brick Lane is famous for its curry houses, while afternoon tea at one of the city's elegant tea rooms is a quintessential British experience. \n",
      "Relevance:0.8466691790678276\n",
      "\n"
     ]
    }
   ],
   "source": [
    "for result in results:\n",
    "    print(f\"Text: {result.text} \\nRelevance:{result.relevance}\\n\")"
   ]
  },
  {
   "cell_type": "markdown",
   "metadata": {},
   "source": [
    "Looking at the results, we can see that relevant information has been returned; which is reflected by the high relevance scores.\n",
    "\n",
    "However, this was quite easy, as we have information direcly relating to what we being asked, using very similar language. Let's try a more subtle query."
   ]
  },
  {
   "cell_type": "code",
   "execution_count": 75,
   "metadata": {},
   "outputs": [],
   "source": [
    "results = await kernel.memory.search_async(\n",
    "    \"London\", \"Where can I eat non-british food in London?\", limit=2\n",
    ")"
   ]
  },
  {
   "cell_type": "code",
   "execution_count": 76,
   "metadata": {},
   "outputs": [
    {
     "name": "stdout",
     "output_type": "stream",
     "text": [
      "Text: London's food scene is a melting pot of flavors from around the world. From traditional English pubs serving fish and chips to Michelin-starred restaurants offering fine dining experiences, there is something to satisfy every palate. \n",
      "Relevance:0.8737803364226331\n",
      "\n",
      "Text: Borough Market is a food lover's paradise, offering a wide range of fresh produce, artisanal products, and international cuisines. Brick Lane is famous for its curry houses, while afternoon tea at one of the city's elegant tea rooms is a quintessential British experience. \n",
      "Relevance:0.8410622197867179\n",
      "\n"
     ]
    }
   ],
   "source": [
    "for result in results:\n",
    "    print(f\"Text: {result.text} \\nRelevance:{result.relevance}\\n\")"
   ]
  },
  {
   "cell_type": "markdown",
   "metadata": {},
   "source": [
    "Here, we can see that we have recieved exactly the same results. However, as our second result explicitly mentions 'food from around the world', I feel that this is a better match. This highlights some of the potential limitations of a semantic search approach.\n",
    "\n",
    "#### Using an Open Source model\n",
    "Out of interest, let's see how an open source model compares with our OpenAI service in this context. We can register a Hugging Face sentence transformer model for this purpose, as demonstrated below:"
   ]
  },
  {
   "cell_type": "code",
   "execution_count": 77,
   "metadata": {},
   "outputs": [
    {
     "name": "stderr",
     "output_type": "stream",
     "text": [
      "(…)f3d3c277d6e90027e55de9125/.gitattributes: 100%|██████████| 1.18k/1.18k [00:00<00:00, 1.18MB/s]\n",
      "(…)7d6e90027e55de9125/1_Pooling/config.json: 100%|██████████| 190/190 [00:00<00:00, 208kB/s]\n",
      "(…)e2f80f3d3c277d6e90027e55de9125/README.md: 100%|██████████| 10.6k/10.6k [00:00<00:00, 10.6MB/s]\n",
      "(…)f80f3d3c277d6e90027e55de9125/config.json: 100%|██████████| 612/612 [00:00<00:00, 303kB/s]\n",
      "(…)de9125/config_sentence_transformers.json: 100%|██████████| 116/116 [00:00<?, ?B/s] \n",
      "(…)d3c277d6e90027e55de9125/data_config.json: 100%|██████████| 39.3k/39.3k [00:00<00:00, 75.8MB/s]\n",
      "pytorch_model.bin: 100%|██████████| 90.9M/90.9M [00:06<00:00, 14.0MB/s]\n",
      "(…)90027e55de9125/sentence_bert_config.json: 100%|██████████| 53.0/53.0 [00:00<?, ?B/s]\n",
      "(…)6e90027e55de9125/special_tokens_map.json: 100%|██████████| 112/112 [00:00<00:00, 111kB/s]\n",
      "(…)f3d3c277d6e90027e55de9125/tokenizer.json: 100%|██████████| 466k/466k [00:00<00:00, 4.50MB/s]\n",
      "(…)7d6e90027e55de9125/tokenizer_config.json: 100%|██████████| 350/350 [00:00<00:00, 337kB/s]\n",
      "(…)3d3c277d6e90027e55de9125/train_script.py: 100%|██████████| 13.2k/13.2k [00:00<00:00, 13.1MB/s]\n",
      "(…)e2f80f3d3c277d6e90027e55de9125/vocab.txt: 100%|██████████| 232k/232k [00:00<00:00, 29.0MB/s]\n",
      "(…)80f3d3c277d6e90027e55de9125/modules.json: 100%|██████████| 349/349 [00:00<?, ?B/s] \n"
     ]
    },
    {
     "data": {
      "text/plain": [
       "<semantic_kernel.kernel.Kernel at 0x19685a94df0>"
      ]
     },
     "execution_count": 77,
     "metadata": {},
     "output_type": "execute_result"
    }
   ],
   "source": [
    "from semantic_kernel.connectors.ai.hugging_face import HuggingFaceTextEmbedding\n",
    "\n",
    "hf_embedding_service = HuggingFaceTextEmbedding(\n",
    "    \"sentence-transformers/all-MiniLM-L6-v2\", device=-1\n",
    ")\n",
    "kernel.add_text_embedding_generation_service(\n",
    "    \"hf_embedding_service\",\n",
    "    hf_embedding_service,\n",
    ")"
   ]
  },
  {
   "cell_type": "markdown",
   "metadata": {},
   "source": [
    "To switch our memory store, we can use the following method."
   ]
  },
  {
   "cell_type": "code",
   "execution_count": 79,
   "metadata": {},
   "outputs": [],
   "source": [
    "kernel.use_memory(storage=memory_store, embeddings_generator=hf_embedding_service)"
   ]
  },
  {
   "cell_type": "markdown",
   "metadata": {},
   "source": [
    "The use_memory method is a convenience method, equivalent to calling kernel.register_memory(SemanticTextMemory(storage, embeddings_generator)). SemanticTextMemory contains the logic for generating the embeddings and managing their storage.\n",
    "\n",
    "We can now query these in the same way as before."
   ]
  },
  {
   "cell_type": "code",
   "execution_count": 80,
   "metadata": {},
   "outputs": [],
   "source": [
    "for i, chunk in enumerate(chunks):\n",
    "    await kernel.memory.save_information_async(\n",
    "        \"hf_London\", id=\"chunk\" + str(i), text=chunk\n",
    "    )\n",
    "\n",
    "hf_results = await kernel.memory.search_async(\n",
    "    \"hf_London\", \"what food should I eat in London\", limit=2, min_relevance_score=0\n",
    ")"
   ]
  },
  {
   "cell_type": "code",
   "execution_count": 81,
   "metadata": {},
   "outputs": [
    {
     "name": "stdout",
     "output_type": "stream",
     "text": [
      "Text: London's food scene is a melting pot of flavors from around the world. From traditional English pubs serving fish and chips to Michelin-starred restaurants offering fine dining experiences, there is something to satisfy every palate. \n",
      "Relevance:0.6343544301813628\n",
      "\n",
      "Text: In conclusion, London is a city that seamlessly blends history, culture, and culinary delights. With its iconic landmarks, fascinating history, diverse culture, and mouthwatering food, it offers a truly unforgettable experience for visitors. \n",
      "Relevance:0.6235306756533571\n",
      "\n"
     ]
    }
   ],
   "source": [
    "for result in hf_results:\n",
    "    print(f\"Text: {result.text} \\nRelevance:{result.relevance}\\n\")"
   ]
  },
  {
   "cell_type": "code",
   "execution_count": 82,
   "metadata": {},
   "outputs": [],
   "source": [
    "hf_results = await kernel.memory.search_async(\n",
    "    \"hf_London\",\n",
    "    \"Where can I eat non-british food in London?\",\n",
    "    limit=2,\n",
    "    min_relevance_score=0,\n",
    ")"
   ]
  },
  {
   "cell_type": "code",
   "execution_count": 83,
   "metadata": {},
   "outputs": [
    {
     "name": "stdout",
     "output_type": "stream",
     "text": [
      "Text: London's food scene is a melting pot of flavors from around the world. From traditional English pubs serving fish and chips to Michelin-starred restaurants offering fine dining experiences, there is something to satisfy every palate. \n",
      "Relevance:0.6461577865747375\n",
      "\n",
      "Text: In conclusion, London is a city that seamlessly blends history, culture, and culinary delights. With its iconic landmarks, fascinating history, diverse culture, and mouthwatering food, it offers a truly unforgettable experience for visitors. \n",
      "Relevance:0.5838096152242376\n",
      "\n"
     ]
    }
   ],
   "source": [
    "for result in hf_results:\n",
    "    print(f\"Text: {result.text} \\nRelevance:{result.relevance}\\n\")"
   ]
  },
  {
   "cell_type": "markdown",
   "metadata": {},
   "source": [
    "We can see that we have returned the same chunks, but our relevance scores are different. We can also observe the difference in the dimensions of the embeddings generated by the different models."
   ]
  },
  {
   "cell_type": "code",
   "execution_count": 84,
   "metadata": {},
   "outputs": [
    {
     "name": "stdout",
     "output_type": "stream",
     "text": [
      "OpenAI embedding size: (1536,), Hugging Face embedding size: (384,)\n"
     ]
    }
   ],
   "source": [
    "print(\n",
    "    f\"OpenAI embedding size: {results[0].embedding.shape}, Hugging Face embedding size: {hf_results[0].embedding.shape}\"\n",
    ")"
   ]
  },
  {
   "cell_type": "markdown",
   "metadata": {},
   "source": [
    "### Integrating memory into context\n",
    "In our previous example, we saw that whilst we could identify broadly relevant information based on an embedding search, for more subtle queries we didn't receive the most relevant result. Let's explore whether we can improve upon this.\n",
    "\n",
    "One way that we could approach this is to provide the relevant information to our chatbot, and then let the model decide which parts are the most relevant. Once again, let's define a suitable config for this."
   ]
  },
  {
   "cell_type": "code",
   "execution_count": 85,
   "metadata": {},
   "outputs": [],
   "source": [
    "chat_config_dict = {\n",
    "    \"schema\": 1,\n",
    "    # The type of prompt\n",
    "    \"type\": \"completion\",\n",
    "    # A description of what the semantic function does\n",
    "    \"description\": \"A chatbot which provides information about cities and countries\",\n",
    "    # Specifies which model service(s) to use\n",
    "    \"default_services\": [\"azure_gpt35_chat_completion\"],\n",
    "    # The parameters that will be passed to the connector and model service\n",
    "    \"completion\": {\n",
    "        \"temperature\": 0.0,\n",
    "        \"top_p\": 1,\n",
    "        \"max_tokens\": 500,\n",
    "        \"number_of_responses\": 1,\n",
    "        \"presence_penalty\": 0,\n",
    "        \"frequency_penalty\": 0,\n",
    "    },\n",
    "    # Defines the variables that are used inside of the prompt\n",
    "    \"input\": {\n",
    "        \"parameters\": [\n",
    "            {\n",
    "                \"name\": \"question\",\n",
    "                \"description\": \"The question given by the user\",\n",
    "                \"defaultValue\": \"\",\n",
    "            },\n",
    "            {\n",
    "                \"name\": \"context\",\n",
    "                \"description\": \"Context containing information to be used to help answer the question\",\n",
    "                \"defaultValue\": \"\",\n",
    "            },\n",
    "        ]\n",
    "    },\n",
    "    # Non-schema variable\n",
    "    \"system_prompt\": \"You are a chatbot to provide information about different cities and countries. \",\n",
    "}"
   ]
  },
  {
   "cell_type": "markdown",
   "metadata": {},
   "source": [
    "Next, let's create a prompt which instructs the model to answer the question based on the context provided, and register a semantic function."
   ]
  },
  {
   "cell_type": "code",
   "execution_count": 86,
   "metadata": {},
   "outputs": [],
   "source": [
    "prompt_with_context = \"\"\"\n",
    " Use the following pieces of context to answer the users question.\n",
    " This is the only information that you should use to answer the question, do not reference information outside of this context.\n",
    " If the information required to answer the question is not provided in the context, just say that \"I don't know\", don't try to make up an answer.\n",
    " ----------------\n",
    " Context: {{$context}}\n",
    " ----------------\n",
    " User question: {{$question}}\n",
    " ----------------\n",
    " Answer:\n",
    "\"\"\"\n",
    "\n",
    "chatbot_with_context = kernel.register_semantic_function(\n",
    "    skill_name=\"ChatbotWithContext\",\n",
    "    function_name=\"chatbot_with_context\",\n",
    "    function_config=create_semantic_function_chat_config(\n",
    "        prompt_with_context, chat_config_dict, kernel\n",
    "    ),\n",
    ")"
   ]
  },
  {
   "cell_type": "markdown",
   "metadata": {},
   "source": [
    "Now, we can use this function to answer our more subtle question. First, we create a context object, and add our question to this."
   ]
  },
  {
   "cell_type": "code",
   "execution_count": 87,
   "metadata": {},
   "outputs": [],
   "source": [
    "question = \"Where can I eat non-british food in London?\"\n",
    "\n",
    "context = kernel.create_new_context()\n",
    "context[\"question\"] = question"
   ]
  },
  {
   "cell_type": "markdown",
   "metadata": {},
   "source": [
    "Next, we can manually perform our embedding search, and add the retrieved information to our context."
   ]
  },
  {
   "cell_type": "code",
   "execution_count": 88,
   "metadata": {},
   "outputs": [],
   "source": [
    "results = await kernel.memory.search_async(\"hf_London\", question, limit=2)\n",
    "context[\"context\"] = \"\\n\".join([result.text for result in results])"
   ]
  },
  {
   "cell_type": "markdown",
   "metadata": {},
   "source": [
    "Finally, we can execute our function. Here, we are using the kernel to execute the function, rather than invoking it directly; this can be useful when we would like to run multiple functions sequentially."
   ]
  },
  {
   "cell_type": "code",
   "execution_count": 89,
   "metadata": {},
   "outputs": [],
   "source": [
    "answer = await kernel.run_async(chatbot_with_context, input_vars=context.variables)"
   ]
  },
  {
   "cell_type": "code",
   "execution_count": 90,
   "metadata": {},
   "outputs": [
    {
     "name": "stdout",
     "output_type": "stream",
     "text": [
      "In London, you can find a wide variety of non-British food options. There are numerous international restaurants and eateries that cater to different cuisines from around the world. Some popular areas for non-British food include Chinatown, which offers a range of Chinese cuisine, and Brick Lane, known for its Indian and Bangladeshi restaurants. Additionally, you can find Italian, Thai, Japanese, Mexican, and many other international cuisines throughout the city.\n"
     ]
    }
   ],
   "source": [
    "print(answer.result)"
   ]
  },
  {
   "cell_type": "markdown",
   "metadata": {},
   "source": [
    "However, we can also see that our answer contains additional information that was not included in our memory, despite our prompt clearly telling the model not to do this! I also tried adding these instructions to the system prompt, but got the same outcome. Whilst the information is correct in this case, if we weren't familiar with London, we wouldn't be able to validate this; this is a form of hallucination, where the model has 'invented' additional information. This is a good example of how LLMs don't always behave in the way that you expect!"
   ]
  },
  {
   "cell_type": "markdown",
   "metadata": {},
   "source": [
    "### Plugins\n",
    "Note: In earlier versions of Semantic Kernel, plugins were known as 'skills'; they were renamed with consistency with Bing and OpenAI. As such, many code references and documentation refer to 'skills'.\n",
    "\n",
    "A plugin in Semantic Kernel is a group of functions that can be loaded into the kernel to be exposed to AI apps and services. The functions within plugins can then be orchestrated by the kernel to accomplish tasks.\n",
    "\n",
    "The documentation describes plugins as the \"building blocks\" of Semantic Kernel, which can be chained together to create complex workflows; as plugins follow the OpenAI plugin specification, plugins created for OpenAI services, Bing, and Microsoft 365 can be used with Semantic Kernel.\n",
    "\n",
    "Semantic Kernel provides several plugins out-of-the-box, which include:\n",
    "\n",
    "**ConversationSummarySkill:** To summarize a conversation\n",
    "\n",
    "**HttpSkill**: To call APIs\n",
    "\n",
    "**TextMemorySkill**: To store and retrieve text in memory\n",
    "\n",
    "**TimeSkill**: To acquire the time of day and any other temporal information\n",
    "Let's start by exploring how we can use a pre-defined plugin, before moving on to investigate how we can create custom plugins.\n",
    "\n",
    "### Using an out-of-the-box plugin\n",
    "\n",
    "One of the plugins included in Semantic Kernel is `TextMemorySkill`, which provides functionality to save and recall information from memory. Let's see how we can use this to simplify our previous example of populating our prompt context from memory.\n",
    "\n",
    "First, we must import our plugin, as demonstrated below."
   ]
  },
  {
   "cell_type": "code",
   "execution_count": 91,
   "metadata": {},
   "outputs": [
    {
     "data": {
      "text/plain": [
       "{'recall': <semantic_kernel.orchestration.sk_function.SKFunction at 0x196af7e1330>,\n",
       " 'save': <semantic_kernel.orchestration.sk_function.SKFunction at 0x196af7e1690>}"
      ]
     },
     "execution_count": 91,
     "metadata": {},
     "output_type": "execute_result"
    }
   ],
   "source": [
    "kernel.import_skill(sk.core_skills.TextMemorySkill())"
   ]
  },
  {
   "cell_type": "markdown",
   "metadata": {},
   "source": [
    "Here, we can see that this plugin contains two semantic functions, `recall` and `save`.\n",
    "\n",
    "Now, let's modify our prompt:"
   ]
  },
  {
   "cell_type": "code",
   "execution_count": 92,
   "metadata": {},
   "outputs": [],
   "source": [
    "prompt_with_context_plugin = \"\"\"\n",
    " Use the following pieces of context to answer the users question.\n",
    " This is the only information that you should use to answer the question, do not reference information outside of this context.\n",
    " If the information required to answer the question is not provided in the context, just say that \"I don't know\", don't try to make up an answer.\n",
    " ----------------\n",
    " Context: {{recall $question}}\n",
    " ----------------\n",
    " User question: {{$question}}\n",
    " ----------------\n",
    " Answer:\n",
    "\"\"\""
   ]
  },
  {
   "cell_type": "markdown",
   "metadata": {},
   "source": [
    "We can see that, to use the `recall` function, we can reference this in our prompt. Now, let's create a config and register a function."
   ]
  },
  {
   "cell_type": "code",
   "execution_count": 93,
   "metadata": {},
   "outputs": [],
   "source": [
    "chat_config_dict = {\n",
    "    \"schema\": 1,\n",
    "    # The type of prompt\n",
    "    \"type\": \"completion\",\n",
    "    # A description of what the semantic function does\n",
    "    \"description\": \"A chatbot which provides information about cities and countries\",\n",
    "    # Specifies which model service(s) to use\n",
    "    \"default_services\": [\"azure_gpt35_chat_completion\"],\n",
    "    # The parameters that will be passed to the connector and model service\n",
    "    \"completion\": {\n",
    "        \"temperature\": 0.0,\n",
    "        \"top_p\": 1,\n",
    "        \"max_tokens\": 500,\n",
    "        \"number_of_responses\": 1,\n",
    "        \"presence_penalty\": 0,\n",
    "        \"frequency_penalty\": 0,\n",
    "    },\n",
    "    # Defines the variables that are used inside of the prompt\n",
    "    \"input\": {\n",
    "        \"parameters\": [\n",
    "            {\n",
    "                \"name\": \"question\",\n",
    "                \"description\": \"The question given by the user\",\n",
    "                \"defaultValue\": \"\",\n",
    "            },\n",
    "        ]\n",
    "    },\n",
    "    # Non-schema variable\n",
    "    \"system_prompt\": \"You are a chatbot to provide information about different cities and countries. \",\n",
    "}\n"
   ]
  },
  {
   "cell_type": "code",
   "execution_count": null,
   "metadata": {},
   "outputs": [],
   "source": [
    "chatbot_with_context_plugin = kernel.register_semantic_function(\n",
    "    skill_name=\"ChatbotWithContextPlugin\",\n",
    "    function_name=\"chatbot_with_context_plugin\",\n",
    "    function_config=create_semantic_function_chat_config(\n",
    "        prompt_with_context_plugin, chat_config_dict, kernel\n",
    "    ),\n",
    ")"
   ]
  },
  {
   "cell_type": "markdown",
   "metadata": {},
   "source": [
    "In our manual example, we were able to control aspects such as the number of results returned and the collection to search. When using `TextMemorySkill`, we can set these by adding them to our context. Let's try out our function."
   ]
  },
  {
   "cell_type": "code",
   "execution_count": 94,
   "metadata": {},
   "outputs": [],
   "source": [
    "question = \"Where can I eat non-british food in London?\"\n",
    "\n",
    "context = kernel.create_new_context()\n",
    "context[\"question\"] = question\n",
    "context[sk.core_skills.TextMemorySkill.COLLECTION_PARAM] = \"hf_London\"\n",
    "context[sk.core_skills.TextMemorySkill.RELEVANCE_PARAM] = 0.2\n",
    "context[sk.core_skills.TextMemorySkill.LIMIT_PARAM] = 2\n",
    "\n",
    "answer = await kernel.run_async(\n",
    "    chatbot_with_context_plugin, input_vars=context.variables\n",
    ")"
   ]
  },
  {
   "cell_type": "code",
   "execution_count": 95,
   "metadata": {},
   "outputs": [
    {
     "name": "stdout",
     "output_type": "stream",
     "text": [
      "In London, you can find a wide variety of non-British food options. The city is known for its diverse culinary scene, offering cuisines from around the world. You can explore different neighborhoods such as Chinatown for Chinese cuisine, Brick Lane for Indian food, Edgware Road for Middle Eastern dishes, and Soho for a range of international cuisines. Additionally, there are many restaurants and food markets that specialize in specific international cuisines, so you can easily find non-British food options throughout the city.\n"
     ]
    }
   ],
   "source": [
    "print(answer.result)"
   ]
  },
  {
   "cell_type": "markdown",
   "metadata": {},
   "source": [
    "We can see that this is equivalent to our manual approach.\n",
    "\n",
    "#### Creating Custom Plugins\n",
    "Now that we understand how to create semantic functions, and how to use plugins, we have everything we need to start making our own plugins!\n",
    "\n",
    "Plugins can contain two types of functions:\n",
    "\n",
    "Semantic functions: use natural language to perform actions\n",
    "Native functions: use Python code to perform actions\n",
    "which can be combined within a single plugin.\n",
    "\n",
    "The choice of whether to use a semantic vs native function depends on the task that you are performing. For tasks involving understanding or generating language, semantic functions are the obvious choice. However, for more deterministic tasks, such as performing mathematical operations, downloading data or accessing the time, native functions are better suited.\n",
    "\n",
    "Let's explore how we can create each type. First, let's create a folder to store our plugins."
   ]
  },
  {
   "cell_type": "code",
   "execution_count": 96,
   "metadata": {},
   "outputs": [],
   "source": [
    "from pathlib import Path\n",
    "\n",
    "plugins_path = Path(\"Plugins\")\n",
    "plugins_path.mkdir(exist_ok=True)"
   ]
  },
  {
   "cell_type": "markdown",
   "metadata": {},
   "source": [
    "Creating a Poem generator plugin\n",
    "For our example, let's create a plugin which generates poems; for this, using a semantic function seems a natural choice. We can create a folder for this plugin in our directory."
   ]
  },
  {
   "cell_type": "code",
   "execution_count": 97,
   "metadata": {},
   "outputs": [],
   "source": [
    "poem_gen_plugin_path = plugins_path / \"PoemGeneratorPlugin\"\n",
    "poem_gen_plugin_path.mkdir(exist_ok=True)"
   ]
  },
  {
   "cell_type": "markdown",
   "metadata": {},
   "source": [
    "Recalling that plugins are just a collection of functions, and we are creating a semantic function, the next part should be quite familiar. The key difference is that, instead of defining our prompt and config inline, we will create individual files for these; to make it easier to load.\n",
    "\n",
    "Let's create a folder for our semantic function, which we shall call `write_poem`."
   ]
  },
  {
   "cell_type": "code",
   "execution_count": 98,
   "metadata": {},
   "outputs": [],
   "source": [
    "poem_sc_path = poem_gen_plugin_path / \"write_poem\"\n",
    "poem_sc_path.mkdir(exist_ok=True)"
   ]
  },
  {
   "cell_type": "markdown",
   "metadata": {},
   "source": [
    "Next, we create our prompt, saving it as `skprompt.txt.`"
   ]
  },
  {
   "cell_type": "code",
   "execution_count": 99,
   "metadata": {},
   "outputs": [],
   "source": [
    "prompt_path = poem_sc_path / \"skprompt.txt\""
   ]
  },
  {
   "cell_type": "code",
   "execution_count": 100,
   "metadata": {},
   "outputs": [
    {
     "name": "stdout",
     "output_type": "stream",
     "text": [
      "Writing Plugins\\PoemGeneratorPlugin\\write_poem\\skprompt.txt\n"
     ]
    }
   ],
   "source": [
    "%%writefile {prompt_path}\n",
    "\n",
    "Please write a poem about {{$input}}"
   ]
  },
  {
   "cell_type": "markdown",
   "metadata": {},
   "source": [
    "Now, let's create our config and store this in a json file.\n",
    "\n",
    "Whilst it is always good practice to set meaningful descriptions in our config, this becomes more important when we are defining plugins; plugins should provide clear descriptions that describe how they behave, what their inputs and outputs are, and what their side effects are. The reason for this is that this is the interface that is presented by our kernel and, if we want to be able to use an LLM to orchestrate tasks, it needs to be able to understand the plugin’s functionality and how to call it so that it can select appropriate functions."
   ]
  },
  {
   "cell_type": "code",
   "execution_count": 101,
   "metadata": {},
   "outputs": [],
   "source": [
    "config_path = poem_sc_path / \"config.json\""
   ]
  },
  {
   "cell_type": "code",
   "execution_count": 102,
   "metadata": {},
   "outputs": [
    {
     "name": "stdout",
     "output_type": "stream",
     "text": [
      "Writing Plugins\\PoemGeneratorPlugin\\write_poem\\config.json\n"
     ]
    }
   ],
   "source": [
    "%%writefile {config_path}\n",
    "\n",
    "{\n",
    "\t\"schema\": 1,\n",
    "\t\"type\": \"completion\",\n",
    "\t\"description\": \"A poem generator, that writes a short poem based on user input\",\n",
    "\t\"default_services\": [\"azure_gpt35_chat_completion\"],\n",
    "\t\"completion\": {\n",
    "\t\t\"temperature\": 0.0,\n",
    "\t\t\"top_p\": 1,\n",
    "\t\t\"max_tokens\": 250,\n",
    "\t\t\"number_of_responses\": 1,\n",
    "\t\t\"presence_penalty\": 0,\n",
    "\t\t\"frequency_penalty\": 0\n",
    "\t},\n",
    "\t\"input\": {\n",
    "\t\t\"parameters\": [{\n",
    "\t\t\t\"name\": \"input\",\n",
    "\t\t\t\"description\": \"The topic that the poem should be written about\",\n",
    "\t\t\t\"defaultValue\": \"\"\n",
    "\t\t}]\n",
    "\t}\n",
    "}"
   ]
  },
  {
   "cell_type": "markdown",
   "metadata": {},
   "source": [
    "Note that, as we are saving our config as a JSON file, we need to remove the comments to make this valid JSON.\n",
    "\n",
    "Now, we are able to import our plugin:"
   ]
  },
  {
   "cell_type": "code",
   "execution_count": 103,
   "metadata": {},
   "outputs": [],
   "source": [
    "poem_gen_plugin = kernel.import_semantic_skill_from_directory(\n",
    "    plugins_path, \"PoemGeneratorPlugin\"\n",
    ")"
   ]
  },
  {
   "cell_type": "markdown",
   "metadata": {},
   "source": [
    "Inspecting our plugin, we can see that it exposes our write_poem semantic function."
   ]
  },
  {
   "cell_type": "code",
   "execution_count": 104,
   "metadata": {},
   "outputs": [
    {
     "data": {
      "text/plain": [
       "{'write_poem': <semantic_kernel.orchestration.sk_function.SKFunction at 0x196af7e0850>}"
      ]
     },
     "execution_count": 104,
     "metadata": {},
     "output_type": "execute_result"
    }
   ],
   "source": [
    "poem_gen_plugin"
   ]
  },
  {
   "cell_type": "markdown",
   "metadata": {},
   "source": [
    "We can call our semantic function directly"
   ]
  },
  {
   "cell_type": "code",
   "execution_count": 105,
   "metadata": {},
   "outputs": [],
   "source": [
    "result = poem_gen_plugin[\"write_poem\"](\"Munich\")"
   ]
  },
  {
   "cell_type": "code",
   "execution_count": 106,
   "metadata": {},
   "outputs": [
    {
     "name": "stdout",
     "output_type": "stream",
     "text": [
      "In the heart of Bavaria, a city so grand,\n",
      "Lies Munich, a place where dreams expand.\n",
      "With its rich history and culture so deep,\n",
      "A tapestry of stories, for us to keep.\n",
      "\n",
      "Oh, Munich, where the past and present unite,\n",
      "A symphony of old and new, shining so bright.\n",
      "From the ancient walls of Nymphenburg Palace,\n",
      "To the modern marvels, a futuristic embrace.\n",
      "\n",
      "The Marienplatz, a bustling square of delight,\n",
      "Where the Glockenspiel dances, day and night.\n",
      "The Rathaus stands tall, a symbol of power,\n",
      "As the city's heartbeat, it ticks every hour.\n",
      "\n",
      "Stroll through the Englischer Garten's green,\n",
      "Where tranquility reigns, a peaceful scene.\n",
      "The Isar River flows, a gentle embrace,\n",
      "Inviting all to wander, at their own pace.\n",
      "\n",
      "The Frauenkirche, with its twin towers high,\n",
      "Guides the faithful, reaching for the sky.\n",
      "Inside, the whispers of prayers and devotion,\n",
      "Echo through the halls, a sacred emotion.\n",
      "\n",
      "Munich, a city of art, where creativity thrives,\n",
      "The Pinakothek Museums, where beauty arrives.\n",
      "From Dürer to Kandinsky, a visual delight,\n",
      "A\n"
     ]
    }
   ],
   "source": [
    "print(result)"
   ]
  },
  {
   "cell_type": "markdown",
   "metadata": {},
   "source": [
    "Or, we can use it in another semantic function:"
   ]
  },
  {
   "cell_type": "code",
   "execution_count": null,
   "metadata": {},
   "outputs": [],
   "source": [
    "chat_config_dict = {\n",
    "    \"schema\": 1,\n",
    "    # The type of prompt\n",
    "    \"type\": \"completion\",\n",
    "    # A description of what the semantic function does\n",
    "    \"description\": \"Wraps a plugin to write a poem\",\n",
    "    # Specifies which model service(s) to use\n",
    "    \"default_services\": [\"azure_gpt35_chat_completion\"],\n",
    "    # The parameters that will be passed to the connector and model service\n",
    "    \"completion\": {\n",
    "        \"temperature\": 0.0,\n",
    "        \"top_p\": 1,\n",
    "        \"max_tokens\": 500,\n",
    "        \"number_of_responses\": 1,\n",
    "        \"presence_penalty\": 0,\n",
    "        \"frequency_penalty\": 0,\n",
    "    },\n",
    "    # Defines the variables that are used inside of the prompt\n",
    "    \"input\": {\n",
    "        \"parameters\": [\n",
    "            {\n",
    "                \"name\": \"input\",\n",
    "                \"description\": \"The input given by the user\",\n",
    "                \"defaultValue\": \"\",\n",
    "            },\n",
    "        ]\n",
    "    },\n",
    "}\n",
    "\n",
    "prompt = \"\"\"\n",
    "{{PoemGeneratorPlugin.write_poem $input}}\n",
    "\"\"\"\n",
    "\n",
    "write_poem_wrapper = kernel.register_semantic_function(\n",
    "    skill_name=\"PoemWrapper\",\n",
    "    function_name=\"poem_wrapper\",\n",
    "    function_config=create_semantic_function_chat_config(\n",
    "        prompt, chat_config_dict, kernel\n",
    "    ),\n",
    ")\n",
    "\n",
    "result = write_poem_wrapper(\"Munich\")\n",
    "print(result)"
   ]
  },
  {
   "cell_type": "code",
   "execution_count": 108,
   "metadata": {},
   "outputs": [
    {
     "name": "stdout",
     "output_type": "stream",
     "text": [
      "for the eyes, a captivating sight.\n",
      "\n",
      "And let us not forget the Oktoberfest,\n",
      "A celebration of beer, where all are blessed.\n",
      "The Theresienwiese, filled with laughter and cheer,\n",
      "As the music plays, and the beer flows near.\n",
      "\n",
      "But Munich is more than just its famous brew,\n",
      "It's a city of innovation, where ideas come true.\n",
      "From BMW to Siemens, a hub of industry,\n",
      "Where progress and ingenuity set the city free.\n",
      "\n",
      "So come, explore Munich, with its charm and grace,\n",
      "A city that welcomes, with a warm embrace.\n",
      "Immerse yourself in its history and art,\n",
      "And let Munich's spirit capture your heart.\n"
     ]
    }
   ],
   "source": [
    "print(result)"
   ]
  },
  {
   "cell_type": "markdown",
   "metadata": {},
   "source": [
    "### Creating an Image Classifier plugin\n",
    "Now that we have seen how to use a Semantic function in a plugin, let's take a look at how we can use a native function.\n",
    "\n",
    "Here, let's create a plugin that takes an image url, then downloads and classifies the image. Once again, let's create a folder for our new plugin."
   ]
  },
  {
   "cell_type": "code",
   "execution_count": 109,
   "metadata": {},
   "outputs": [],
   "source": [
    "image_classifier_plugin_path = plugins_path / \"ImageClassifierPlugin\"\n",
    "image_classifier_plugin_path.mkdir(exist_ok=True)"
   ]
  },
  {
   "cell_type": "markdown",
   "metadata": {},
   "source": [
    "Now, we can create our Python module. Inside the module, we can be quite flexible. Here, we have created a class with two methods, the key step is to use the sk_function decorator to specify which methods should be exposed as part of the plugin.\n",
    "In this example, our function only requires a single input. For functions that require multiple inputs, the `sk_function_context_parameter` can be used, as demonstrated in the [documentation](https://learn.microsoft.com/en-us/semantic-kernel/ai-orchestration/native-functions?tabs=python)."
   ]
  },
  {
   "cell_type": "code",
   "execution_count": 110,
   "metadata": {},
   "outputs": [],
   "source": [
    "download_image_sc_path = image_classifier_plugin_path / \"download_image.py\"\n",
    "download_image_sc_path.mkdir(exist_ok=True)"
   ]
  },
  {
   "cell_type": "code",
   "execution_count": 111,
   "metadata": {},
   "outputs": [],
   "source": [
    "import requests\n",
    "from PIL import Image\n",
    "import timm\n",
    "from timm.data.imagenet_info import ImageNetInfo\n",
    "\n",
    "from semantic_kernel.skill_definition import (\n",
    "    sk_function,\n",
    ")\n",
    "from semantic_kernel.orchestration.sk_context import SKContext\n",
    "\n",
    "\n",
    "class ImageClassifierPlugin:\n",
    "    def __init__(self):\n",
    "        self.model = timm.create_model(\"convnext_tiny.in12k_ft_in1k\", pretrained=True)\n",
    "        self.model.eval()\n",
    "        data_config = timm.data.resolve_model_data_config(self.model)\n",
    "        self.transforms = timm.data.create_transform(**data_config, is_training=False)\n",
    "        self.imagenet_info = ImageNetInfo()\n",
    "\n",
    "    @sk_function(\n",
    "        description=\"Takes a url as an input and classifies the image\",\n",
    "        name=\"classify_image\",\n",
    "        input_description=\"The url of the image to classify\",\n",
    "    )\n",
    "    def classify_image(self, url: str) -> str:\n",
    "        image = self.download_image(url)\n",
    "        pred = self.model(self.transforms(image)[None])\n",
    "        return self.imagenet_info.index_to_description(pred.argmax())\n",
    "\n",
    "    def download_image(self, url):\n",
    "        return Image.open(requests.get(url, stream=True).raw).convert(\"RGB\")"
   ]
  },
  {
   "cell_type": "markdown",
   "metadata": {},
   "source": [
    "For this example, we have used the [Pytorch Image Models](https://github.com/huggingface/pytorch-image-models) library to provide our classifier. \n",
    "Now, we can simply import our plugin as seen below."
   ]
  },
  {
   "cell_type": "code",
   "execution_count": 112,
   "metadata": {},
   "outputs": [
    {
     "name": "stderr",
     "output_type": "stream",
     "text": [
      "model.safetensors: 100%|██████████| 114M/114M [00:06<00:00, 18.1MB/s] \n"
     ]
    }
   ],
   "source": [
    "image_classifier = ImageClassifierPlugin()\n",
    "\n",
    "classify_plugin = kernel.import_skill(image_classifier, skill_name=\"classify_image\")"
   ]
  },
  {
   "cell_type": "markdown",
   "metadata": {},
   "source": [
    "Inspecting our plugin, we can see that only our decorated function is exposed."
   ]
  },
  {
   "cell_type": "code",
   "execution_count": 113,
   "metadata": {},
   "outputs": [
    {
     "data": {
      "text/plain": [
       "dict_keys(['classify_image'])"
      ]
     },
     "execution_count": 113,
     "metadata": {},
     "output_type": "execute_result"
    }
   ],
   "source": [
    "classify_plugin.keys()"
   ]
  },
  {
   "cell_type": "markdown",
   "metadata": {},
   "source": [
    "We can verify that our plugin works using an image of a cat from Pixabay."
   ]
  },
  {
   "cell_type": "code",
   "execution_count": 122,
   "metadata": {},
   "outputs": [
    {
     "data": {
      "image/jpeg": "[encoded data removed]",
      "image/png": "[encoded data removed]",
      "text/plain": [
       "<PIL.Image.Image image mode=RGB size=224x224>"
      ]
     },
     "execution_count": 122,
     "metadata": {},
     "output_type": "execute_result"
    }
   ],
   "source": [
    "# url = \"https://cdn.pixabay.com/photo/2016/02/10/16/37/cat-1192026_1280.jpg\"\n",
    "url = \"https://cdn.pixabay.com/photo/2018/03/31/06/31/dog-3277416_1280.jpg\"\n",
    "image_classifier.download_image(url).resize((224, 224))"
   ]
  },
  {
   "cell_type": "code",
   "execution_count": 123,
   "metadata": {},
   "outputs": [],
   "source": [
    "response = classify_plugin[\"classify_image\"](url)"
   ]
  },
  {
   "cell_type": "code",
   "execution_count": 124,
   "metadata": {},
   "outputs": [
    {
     "name": "stdout",
     "output_type": "stream",
     "text": [
      "vizsla, Hungarian pointer\n"
     ]
    }
   ],
   "source": [
    "print(response.result)"
   ]
  },
  {
   "cell_type": "markdown",
   "metadata": {},
   "source": [
    "Manually calling our function, we can see that our image has been classified correctly! In the same way as before, we could also reference this function directly from a prompt. However, as we have already demonstrated this, let's try something slightly different in the following section."
   ]
  },
  {
   "cell_type": "code",
   "execution_count": 125,
   "metadata": {},
   "outputs": [
    {
     "name": "stdout",
     "output_type": "stream",
     "text": [
      "vizsla, Hungarian pointer\n"
     ]
    }
   ],
   "source": [
    "response = await classify_plugin[\"classify_image\"].invoke_async(url)\n",
    "print(response)"
   ]
  },
  {
   "cell_type": "markdown",
   "metadata": {},
   "source": [
    "Chaining multiple plugins\n",
    "It is also possible to chain multiple plugins together using the kernel, as demonstrated below."
   ]
  },
  {
   "cell_type": "code",
   "execution_count": 126,
   "metadata": {},
   "outputs": [],
   "source": [
    "context = kernel.create_new_context()\n",
    "context[\"input\"] = url\n",
    "\n",
    "answer = await kernel.run_async(\n",
    "    classify_plugin[\"classify_image\"],\n",
    "    poem_gen_plugin[\"write_poem\"],\n",
    "    input_context=context,\n",
    ")"
   ]
  },
  {
   "cell_type": "code",
   "execution_count": 127,
   "metadata": {},
   "outputs": [
    {
     "name": "stdout",
     "output_type": "stream",
     "text": [
      "In the land of Hungary, a breed so grand,\n",
      "With grace and elegance, they proudly stand.\n",
      "The Vizsla, a Hungarian pointer so rare,\n",
      "With a noble spirit, beyond compare.\n",
      "\n",
      "With a coat of russet, like the autumn leaves,\n",
      "They roam the fields, like a gentle breeze.\n",
      "Their eyes, so bright, filled with intelligence,\n",
      "A loyal companion, with a heart immense.\n",
      "\n",
      "In the open meadows, they swiftly run,\n",
      "Their agility and speed, second to none.\n",
      "A hunter's delight, with a keen sense of smell,\n",
      "Tracking their prey, as if under a spell.\n",
      "\n",
      "But beyond their skills in the hunting field,\n",
      "Their love and devotion, forever sealed.\n",
      "A family dog, with a gentle demeanor,\n",
      "They bring joy and love, to all who are near.\n",
      "\n",
      "Their loyalty knows no bounds, it's true,\n",
      "Always by your side, through and through.\n",
      "A friend for life, through thick and thin,\n",
      "With a Vizsla, love is sure to win.\n",
      "\n",
      "So let us celebrate this Hungarian breed,\n",
      "With their regal presence, they indeed succeed.\n",
      "The Vizsla, a pointer with a heart so pure,\n",
      "A cherished companion, forevermore.\n"
     ]
    }
   ],
   "source": [
    "print(answer.result)"
   ]
  },
  {
   "cell_type": "markdown",
   "metadata": {},
   "source": [
    "### Orchestrating workflows with a Planner\n",
    "\n",
    "At this point, we have thoroughly explored semantic functions, understand how functions can be grouped and used as part of a plugin, and have seen how we can chain plugins together manually. Now, let's explore how we can create and orchestrate workflows using LLMs. To do this, Semantic Kernel provides `Planner` objects, which can dynamically create chains of functions to try and achieve a goal.\n",
    "\n",
    "A planner is a class that takes a user prompt and a kernel, and uses the kernel's services to create a plan of how to perform the task, using the functions and plugins that have been made available to the kernel. As the plugins are the main building blocks of these plans, the planner relies heavily on the descriptions provided; if plugins and functions don't have clear descriptions, the planner will not be able to use them correctly. Additionally, as a planner can combine functions in various different ways, it is important to ensure that we only expose functions that we are happy for the planner to use.\n",
    "\n",
    "As the planner relies on a model to generate a plan, there can be errors introduced; these usually arise when the planner doesn't properly understand how to use the function. In these cases, we havefound that providing explicit instructions - such as describing the inputs and outputs, and stating whether inputs are required - in the descriptions can lead to better results. Additionally, we havehad better results using instruction tuned models than base models; base text completion models tend to hallucinate functions that don't exist or create multiple plans. Despite these limitations, when everything works correctly, planners can be incredibly powerful!\n",
    "\n",
    "Let's explore how we can do this by exploring if we can create a plan to write a poem about an image, based on its url; using the plugins we created earlier. As we have defined lots of functions that we no longer need, let's create a new kernel, so we can control which functions are exposed."
   ]
  },
  {
   "cell_type": "code",
   "execution_count": 128,
   "metadata": {},
   "outputs": [],
   "source": [
    "kernel = sk.Kernel()"
   ]
  },
  {
   "cell_type": "markdown",
   "metadata": {},
   "source": [
    "To create our plan, let's use our OpenAI chat service."
   ]
  },
  {
   "cell_type": "code",
   "execution_count": 130,
   "metadata": {},
   "outputs": [
    {
     "data": {
      "text/plain": [
       "<semantic_kernel.kernel.Kernel at 0x196c09e1420>"
      ]
     },
     "execution_count": 130,
     "metadata": {},
     "output_type": "execute_result"
    }
   ],
   "source": [
    "kernel.add_chat_service(\n",
    "    service_id=\"azure_gpt35_chat_completion\",\n",
    "    service=AzureChatCompletion(\n",
    "        OPENAI_DEPLOYMENT_NAME, OPENAI_API_ENDPOINT, OPENAI_API_KEY\n",
    "    ),\n",
    ")"
   ]
  },
  {
   "cell_type": "code",
   "execution_count": 131,
   "metadata": {},
   "outputs": [
    {
     "name": "stdout",
     "output_type": "stream",
     "text": [
      "Text completion services: ['azure_gpt35_chat_completion']\n",
      "Chat completion services: ['azure_gpt35_chat_completion']\n",
      "Text embedding generation services: []\n"
     ]
    }
   ],
   "source": [
    "print_ai_services(kernel)"
   ]
  },
  {
   "cell_type": "markdown",
   "metadata": {},
   "source": [
    "Inspecting our registered services, we can see that our service can be used for both text completion and chat completion tasks.\n",
    "\n",
    "Now, let's import our plugins."
   ]
  },
  {
   "cell_type": "code",
   "execution_count": 132,
   "metadata": {},
   "outputs": [],
   "source": [
    "classify_plugin = kernel.import_skill(\n",
    "    ImageClassifierPlugin(), skill_name=\"classify_image\"\n",
    ")\n",
    "poem_gen_plugin = kernel.import_semantic_skill_from_directory(\n",
    "    plugins_path, \"PoemGeneratorPlugin\"\n",
    ")"
   ]
  },
  {
   "cell_type": "markdown",
   "metadata": {},
   "source": [
    "We can see which functions our kernel has access to as demonstrated below."
   ]
  },
  {
   "cell_type": "code",
   "execution_count": 133,
   "metadata": {},
   "outputs": [
    {
     "name": "stdout",
     "output_type": "stream",
     "text": [
      "dict_keys(['classify_image', 'poemgeneratorplugin'])\n"
     ]
    }
   ],
   "source": [
    "print(kernel.skills.data.keys())"
   ]
  },
  {
   "cell_type": "markdown",
   "metadata": {},
   "source": [
    "Now, let's import our planner object."
   ]
  },
  {
   "cell_type": "code",
   "execution_count": 134,
   "metadata": {},
   "outputs": [],
   "source": [
    "from semantic_kernel.planning.basic_planner import BasicPlanner\n",
    "\n",
    "planner = BasicPlanner()"
   ]
  },
  {
   "cell_type": "markdown",
   "metadata": {},
   "source": [
    "To use our planner, all we need is a prompt. Often, we will need to tweak this depending on the plans that are generated. Here, we have tried to be as explicit as possible about the input that is required."
   ]
  },
  {
   "cell_type": "code",
   "execution_count": 135,
   "metadata": {},
   "outputs": [],
   "source": [
    "ask = f\"\"\"\n",
    "I would like you to write poem about what is contained in this image with this url: {url}. This url should be used as input.\n",
    "\n",
    "\"\"\""
   ]
  },
  {
   "cell_type": "markdown",
   "metadata": {},
   "source": [
    "Next, we can use our planner to create a plan for how it will solve the task."
   ]
  },
  {
   "cell_type": "code",
   "execution_count": 136,
   "metadata": {},
   "outputs": [],
   "source": [
    "plan = await planner.create_plan_async(ask, kernel)"
   ]
  },
  {
   "cell_type": "code",
   "execution_count": 137,
   "metadata": {},
   "outputs": [
    {
     "name": "stdout",
     "output_type": "stream",
     "text": [
      "{\n",
      "    \"input\": \"https://cdn.pixabay.com/photo/2018/03/31/06/31/dog-3277416_1280.jpg\",\n",
      "    \"subtasks\": [\n",
      "        {\"function\": \"classify_image.classify_image\"},\n",
      "        {\"function\": \"PoemGeneratorPlugin.write_poem\"}\n",
      "    ]\n",
      "}\n"
     ]
    }
   ],
   "source": [
    "print(plan.generated_plan)"
   ]
  },
  {
   "cell_type": "markdown",
   "metadata": {},
   "source": [
    "Inspecting our plan, we can see that the model has correctly identified out input, and the correct functions to use!\n",
    "Finally, all that is left to do is to execute our plan."
   ]
  },
  {
   "cell_type": "code",
   "execution_count": 138,
   "metadata": {},
   "outputs": [],
   "source": [
    "poem = await planner.execute_plan_async(plan, kernel)"
   ]
  },
  {
   "cell_type": "code",
   "execution_count": 139,
   "metadata": {},
   "outputs": [
    {
     "name": "stdout",
     "output_type": "stream",
     "text": [
      "In the land of Hungary, a breed so grand,\n",
      "With grace and elegance, they proudly stand.\n",
      "The Vizsla, a Hungarian pointer so rare,\n",
      "With a noble spirit, beyond compare.\n",
      "\n",
      "With a coat of russet, like the autumn leaves,\n",
      "They roam the fields, like a gentle breeze.\n",
      "Their eyes, so bright, filled with intelligence,\n",
      "A loyal companion, with a heart immense.\n",
      "\n",
      "In the open meadows, they swiftly run,\n",
      "Their agility and speed, second to none.\n",
      "With every stride, they exude pure grace,\n",
      "A sight to behold, in every open space.\n",
      "\n",
      "Their nose, so keen, can detect a scent,\n",
      "Guiding hunters, with a purposeful intent.\n",
      "They point with precision, a bird in flight,\n",
      "A testament to their instinctive might.\n",
      "\n",
      "But beyond their skills, in the hunting field,\n",
      "The Vizsla's true nature is gently revealed.\n",
      "A loving and gentle soul, they possess,\n",
      "A loyal friend, in times of happiness.\n",
      "\n",
      "With their family, they form a bond so deep,\n",
      "A companion, in both waking and sleep.\n",
      "Their affection, like a warm embrace,\n",
      "Filling our hearts, with love and grace.\n",
      "\n",
      "So let us celebrate, this Hungarian breed,\n",
      "The Vizsla, a\n"
     ]
    }
   ],
   "source": [
    "print(poem)"
   ]
  },
  {
   "cell_type": "markdown",
   "metadata": {},
   "source": [
    "Wow, it worked! For a model trained to predict the next word, that is pretty powerful!\n",
    "\n",
    "As a word of warning, I was quite lucky when making this example that the generated plan worked first time. However, running this multiple times with the same prompt, we can see that this is not always the case, so it is important to double check your plan before running it! For me personally, in a production system, I would feel much more comfortable manually creating the workflow to execute, rather than leaving it to the LLM! As the technology continues to improve, especially at the current rate, hopefully this recommendation will become outdated!"
   ]
  },
  {
   "cell_type": "code",
   "execution_count": 140,
   "metadata": {},
   "outputs": [
    {
     "name": "stdout",
     "output_type": "stream",
     "text": [
      "{\n",
      "    \"input\": \"https://cdn.pixabay.com/photo/2018/03/31/06/31/dog-3277416_1280.jpg\",\n",
      "    \"subtasks\": [\n",
      "        {\"function\": \"classify_image.classify_image\"},\n",
      "        {\"function\": \"PoemGeneratorPlugin.write_poem\"}\n",
      "    ]\n",
      "}\n",
      "{\n",
      "    \"input\": \"https://cdn.pixabay.com/photo/2018/03/31/06/31/dog-3277416_1280.jpg\",\n",
      "    \"subtasks\": [\n",
      "        {\"function\": \"classify_image.classify_image\"},\n",
      "        {\"function\": \"PoemGeneratorPlugin.write_poem\"}\n",
      "    ]\n",
      "}\n",
      "{\n",
      "    \"input\": \"https://cdn.pixabay.com/photo/2018/03/31/06/31/dog-3277416_1280.jpg\",\n",
      "    \"subtasks\": [\n",
      "        {\"function\": \"classify_image.classify_image\"},\n",
      "        {\"function\": \"PoemGeneratorPlugin.write_poem\"}\n",
      "    ]\n",
      "}\n",
      "{\n",
      "    \"input\": \"https://cdn.pixabay.com/photo/2018/03/31/06/31/dog-3277416_1280.jpg\",\n",
      "    \"subtasks\": [\n",
      "        {\"function\": \"PoemGeneratorPlugin.write_poem\"}\n",
      "    ]\n",
      "}\n",
      "{\n",
      "    \"input\": \"https://cdn.pixabay.com/photo/2018/03/31/06/31/dog-3277416_1280.jpg\",\n",
      "    \"subtasks\": [\n",
      "        {\"function\": \"PoemGeneratorPlugin.write_poem\"}\n",
      "    ]\n",
      "}\n"
     ]
    }
   ],
   "source": [
    "for i in range(5):\n",
    "    print((await planner.create_plan_async(ask, kernel)).generated_plan)"
   ]
  },
  {
   "cell_type": "markdown",
   "metadata": {},
   "source": [
    "### Conclusion\n",
    "Hopefully that has provided a good introduction to Semantic Kernel and has inspired you to explore using it for your own use cases.\n"
   ]
  }
 ],
 "metadata": {
  "kernelspec": {
   "display_name": "vtraining",
   "language": "python",
   "name": "python3"
  },
  "language_info": {
   "codemirror_mode": {
    "name": "ipython",
    "version": 3
   },
   "file_extension": ".py",
   "mimetype": "text/x-python",
   "name": "python",
   "nbconvert_exporter": "python",
   "pygments_lexer": "ipython3",
   "version": "3.10.11"
  }
 },
 "nbformat": 4,
 "nbformat_minor": 2
}
