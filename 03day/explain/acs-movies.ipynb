{
 "cells": [
  {
   "cell_type": "markdown",
   "metadata": {},
   "source": [
    "## Setup Azure OpenAI\n",
    "\n",
    "We'll start as usual by defining our Azure OpenAI service API key and endpoint details, specifying the model deployment we want to use and then we'll initiate a connection to the Azure OpenAI service.\n",
    "\n",
    "**NOTE**: As with previous labs, we'll use the values from the `.env` file in the root of this repository."
   ]
  },
  {
   "cell_type": "code",
   "execution_count": 1,
   "metadata": {},
   "outputs": [
    {
     "name": "stdout",
     "output_type": "stream",
     "text": [
      "Found OpenAPI Base Endpoint: https://trefoil.openai.azure.com/\n"
     ]
    }
   ],
   "source": [
    "import os\n",
    "from dotenv import load_dotenv\n",
    "\n",
    " # Load environment variables\n",
    "if load_dotenv():\n",
    "    print(\"Found OpenAPI Base Endpoint: \" + os.getenv(\"OPENAI_API_BASE\"))\n",
    "else: \n",
    "    print(\"No file .env found\")\n",
    "openai_api_type = os.getenv(\"OPENAI_API_TYPE\")\n",
    "openai_api_key = os.getenv(\"OPENAI_API_KEY\")\n",
    "openai_api_base = os.getenv(\"OPENAI_API_BASE\")\n",
    "openai_api_version = os.getenv(\"OPENAI_API_VERSION\")\n",
    "deployment_name = os.getenv(\"OPENAI_DEPLOYMENT_NAME\")\n",
    "embedding_name = os.getenv(\"OPENAI_EMBEDDING_DEPLOYMENTE\")\n",
    "acs_service_name = os.getenv(\"AZURE_SEARCH_SERVICE_NAME\")\n",
    "acs_endpoint_name = os.getenv(\"AZURE_SEARCH_ENDPOINT\")\n",
    "acs_index_name = \"movies-index-hzm\"\n",
    "acs_api_key = os.getenv(\"AZURE_SEARCH_KEY\")"
   ]
  },
  {
   "cell_type": "markdown",
   "metadata": {},
   "source": [
    "### Inititate  the Embedding model, the completion and the instrcut model. "
   ]
  },
  {
   "cell_type": "code",
   "execution_count": 4,
   "metadata": {},
   "outputs": [
    {
     "name": "stdout",
     "output_type": "stream",
     "text": [
      "Completed creation of embedding and completion instances.\n"
     ]
    }
   ],
   "source": [
    "from langchain.embeddings.openai import OpenAIEmbeddings\n",
    "from langchain.chat_models import AzureChatOpenAI\n",
    "from langchain.llms import AzureOpenAI\n",
    "\n",
    "# Create an Embeddings Instance of Azure OpenAI\n",
    "\n",
    "embeddings = OpenAIEmbeddings(\n",
    "    openai_api_base = openai_api_base,\n",
    "    openai_api_version = openai_api_version,\n",
    "    deployment_name =\"text-embedding-ada-002\",\n",
    "    openai_api_key = openai_api_key,\n",
    "    openai_api_type = openai_api_type,\n",
    "    embedding_ctx_length=8191,\n",
    "    chunk_size=1000,\n",
    "    max_retries=6)\n",
    "\n",
    "# Create a Completion Instance of Azure OpenAI\n",
    "llm = AzureChatOpenAI(\n",
    "    openai_api_base= openai_api_base,\n",
    "    openai_api_version= openai_api_version,\n",
    "    deployment_name=\"gpt-35-turbo-16k\",\n",
    "    temperature=0,\n",
    "    openai_api_key= openai_api_key,\n",
    "    openai_api_type = openai_api_type,\n",
    "    max_retries=6,\n",
    "    max_tokens=4000\n",
    ")\n",
    "\n",
    "llmi = AzureOpenAI(\n",
    "    openai_api_base= openai_api_base,\n",
    "    openai_api_version= openai_api_version,\n",
    "    deployment_name=\"gpt-35-turbo-instruct\",\n",
    "    temperature=0,\n",
    "    openai_api_key= openai_api_key,\n",
    "    openai_api_type = openai_api_type,\n",
    "    max_retries=6,\n",
    "    max_tokens=4000\n",
    ")\n",
    "print('Completed creation of embedding and completion instances.')"
   ]
  },
  {
   "cell_type": "markdown",
   "metadata": {},
   "source": [
    "#### Load the data from the movies.csv file using the Langchain CSV document loader."
   ]
  },
  {
   "cell_type": "code",
   "execution_count": null,
   "metadata": {},
   "outputs": [],
   "source": [
    "from langchain.document_loaders.csv_loader import CSVLoader\n",
    "\n",
    "# Movie Fields in CSV\n",
    "# id,original_language,original_title,popularity,release_date,vote_average,vote_count,genre,overview,revenue,runtime,tagline\n",
    "loader = CSVLoader(file_path='../data/movies.csv', source_column='original_title', encoding='utf-8', \n",
    "                   csv_args={'delimiter':',', \n",
    "                             'fieldnames': ['id', 'original_language', 'original_title', 'popularity', \n",
    "                                            'release_date', 'vote_average', 'vote_count', 'genre', \n",
    "                                            'overview', 'revenue', 'runtime', 'tagline'\n",
    "                                            ]\n",
    "                            }\n",
    "                    )\n",
    "data = loader.load()\n",
    "data = data[1:101] # reduce dataset if you want\n",
    "print('Loaded %s movies' % len(data))\n",
    "data[0]"
   ]
  },
  {
   "cell_type": "markdown",
   "metadata": {},
   "source": [
    "### Create embedings for every entry/row in our `data` object and put everything in an object called Items "
   ]
  },
  {
   "cell_type": "code",
   "execution_count": null,
   "metadata": {},
   "outputs": [],
   "source": [
    "import uuid # The uuid library in Python is used to generate unique IDs, known as Universally Unique Identifiers (UUIDs), which can be used for objects, sessions, or transactions where uniqueness is required.\n",
    "\n",
    "# Let's take a quick look at the data structure of the CSVLoader\n",
    "print(data[0])\n",
    "print(data[0].metadata['source'])\n",
    "print(\"----------\")\n",
    "\n",
    "# Generate Document Embeddings for page_content field in the movies CSVLoader dataset using Azure OpenAI\n",
    "items = []\n",
    "for movie in data:\n",
    "    content = movie.page_content\n",
    "    items.append(dict([(\"id\", str(uuid.uuid4())), (\"original_title\", movie.metadata['source']), (\"content\", content), (\"content_vector\", embeddings.embed_query(content))]))\n",
    "\n",
    "# Print out a sample item to validate the updated data structure.\n",
    "# It should have the id, content, and content_vector values.\n",
    "print(items[0])"
   ]
  },
  {
   "cell_type": "code",
   "execution_count": null,
   "metadata": {},
   "outputs": [],
   "source": [
    "content = movie.page_content\n",
    "print(content)"
   ]
  },
  {
   "cell_type": "markdown",
   "metadata": {},
   "source": [
    "### Load Movies into Azure Cognitive Search\n",
    "\n",
    "Next, we'll create the Azure Cognitive Search index, embed the loaded movies from the CSV file, and upload the data into the newly created index. Depending on the number of movies loaded and rate limiting, this might take a while to do the embeddings so be patient."
   ]
  },
  {
   "cell_type": "code",
   "execution_count": 9,
   "metadata": {},
   "outputs": [],
   "source": [
    "from azure.core.credentials import AzureKeyCredential\n",
    "from azure.search.documents.indexes import SearchIndexClient\n",
    "from azure.search.documents.indexes.models import (\n",
    "    SearchIndex,\n",
    "    SearchField,\n",
    "    SearchFieldDataType,\n",
    "    SimpleField,\n",
    "    SearchableField,\n",
    "    SearchIndex,\n",
    "    SemanticConfiguration,\n",
    "    PrioritizedFields,\n",
    "    SemanticField,\n",
    "    SemanticSettings,\n",
    "    VectorSearch,\n",
    "    HnswVectorSearchAlgorithmConfiguration,\n",
    ")"
   ]
  },
  {
   "cell_type": "markdown",
   "metadata": {},
   "source": [
    "### Let's Create the Azure Cognitive Search Index Client"
   ]
  },
  {
   "cell_type": "code",
   "execution_count": 10,
   "metadata": {},
   "outputs": [],
   "source": [
    "index_client = SearchIndexClient(\n",
    "    acs_endpoint_name,\n",
    "    AzureKeyCredential(acs_api_key)\n",
    ")"
   ]
  },
  {
   "cell_type": "markdown",
   "metadata": {},
   "source": [
    "###  Define search carachteristics for the movie's fields in the CSV"
   ]
  },
  {
   "cell_type": "code",
   "execution_count": 11,
   "metadata": {},
   "outputs": [],
   "source": [
    "# Fields in the csv file\n",
    "# id,original_language,original_title,popularity,release_date,vote_average,vote_count,genre,overview,revenue,runtime,tagline\n",
    "# Definition of the structure of the index. \n",
    "\n",
    "fields = [\n",
    "    SimpleField(name=\"id\", type=SearchFieldDataType.String, key=True, sortable=True, filterable=True, facetable=True),\n",
    "    SearchableField(name=\"original_title\", type=SearchFieldDataType.String),\n",
    "    SearchableField(name=\"overview\", type=SearchFieldDataType.String),\n",
    "    SearchableField(name=\"tagline\", type=SearchFieldDataType.String),\n",
    "    SearchableField(name=\"popularity\", type=SearchFieldDataType.Double, sortable=True),\n",
    "    SearchableField(name=\"content\", type=SearchFieldDataType.String),\n",
    "    SearchField(name=\"content_vector\", type=SearchFieldDataType.Collection(SearchFieldDataType.Single), searchable=True, vector_search_dimensions=1536, vector_search_configuration=\"my-vector-config\"),\n",
    "]"
   ]
  },
  {
   "cell_type": "markdown",
   "metadata": {},
   "source": [
    "### Configure Vector Search Configuration"
   ]
  },
  {
   "cell_type": "code",
   "execution_count": 12,
   "metadata": {},
   "outputs": [],
   "source": [
    "vector_search = VectorSearch(\n",
    "    algorithm_configurations=[\n",
    "        HnswVectorSearchAlgorithmConfiguration(\n",
    "            name=\"my-vector-config\",\n",
    "            kind=\"hnsw\",\n",
    "            parameters={\n",
    "                \"m\": 4,\n",
    "                \"efConstruction\": 400,\n",
    "                \"efSearch\": 500,\n",
    "                \"metric\": \"cosine\"\n",
    "            }\n",
    "        )\n",
    "    ]\n",
    ")"
   ]
  },
  {
   "cell_type": "markdown",
   "metadata": {},
   "source": [
    "### Configure Semantic Configuration (work in progress)"
   ]
  },
  {
   "cell_type": "code",
   "execution_count": 13,
   "metadata": {},
   "outputs": [],
   "source": [
    "semantic_config = SemanticConfiguration(\n",
    "    name=\"my-semantic-config\",\n",
    "    prioritized_fields=PrioritizedFields(\n",
    "        title_field=SemanticField(field_name=\"original_title\"),\n",
    "        prioritized_keywords_fields=[SemanticField(field_name=\"original_title\"), SemanticField(field_name=\"tagline\")],\n",
    "        prioritized_content_fields=[SemanticField(field_name=\"content\")]\n",
    "    )\n",
    ")\n"
   ]
  },
  {
   "cell_type": "markdown",
   "metadata": {},
   "source": [
    "### Create the semantic settings with the configuration"
   ]
  },
  {
   "cell_type": "code",
   "execution_count": 14,
   "metadata": {},
   "outputs": [],
   "source": [
    "# Create the semantic settings with the configuration\n",
    "semantic_settings = SemanticSettings(configurations=[semantic_config])"
   ]
  },
  {
   "cell_type": "markdown",
   "metadata": {},
   "source": [
    "### Create the search index with the desired vector search and semantic configuration"
   ]
  },
  {
   "cell_type": "code",
   "execution_count": null,
   "metadata": {},
   "outputs": [],
   "source": [
    "# Create the search index with the desired vector search and semantic configurations\n",
    "index = SearchIndex(\n",
    "    name=acs_index_name,\n",
    "    fields=fields,\n",
    "    vector_search=vector_search,\n",
    "    semantic_settings=semantic_settings\n",
    ")\n",
    "result = index_client.create_or_update_index(index)\n",
    "print(f'The {result.name} index was created.')"
   ]
  },
  {
   "cell_type": "markdown",
   "metadata": {},
   "source": [
    "### Upload movies to Azure Cognitive Search index."
   ]
  },
  {
   "cell_type": "code",
   "execution_count": null,
   "metadata": {},
   "outputs": [],
   "source": [
    "from azure.search.documents.models import Vector\n",
    "from azure.search.documents import SearchClient\n",
    "\n",
    "# Insert Text and Embeddings into the Azure Cognitive Search index created.\n",
    "search_client = SearchClient(\n",
    "    acs_endpoint_name,\n",
    "    acs_index_name,\n",
    "    AzureKeyCredential(acs_api_key)\n",
    ")\n",
    "result = search_client.upload_documents(items)\n",
    "print(\"Successfully added documents to Azure Cognitive Search index.\")\n",
    "print(f\"Uploaded {len(data)} documents\")"
   ]
  },
  {
   "cell_type": "markdown",
   "metadata": {},
   "source": [
    "### First, let's do a plain vanilla text search, no vectors or embeddings."
   ]
  },
  {
   "cell_type": "code",
   "execution_count": null,
   "metadata": {},
   "outputs": [],
   "source": [
    "query = \"old movie?\"\n",
    "\n",
    "search_client = SearchClient(\n",
    "    acs_endpoint_name,\n",
    "    acs_index_name,\n",
    "    AzureKeyCredential(acs_api_key)\n",
    ")\n",
    "\n",
    "# Execute the search\n",
    "results = list(search_client.search(\n",
    "    search_text=query,\n",
    "    include_total_count=True,\n",
    "    top=3\n",
    "))\n",
    "\n",
    "# Print count of total results.\n",
    "print(f\"Returned {len(results)} results using only text-based search.\")\n",
    "print(\"----------\")\n",
    "# Iterate over Results\n",
    "# Index Fields - id, content, content_vector\n",
    "for result in results:\n",
    "    print(\"Movie: {}\".format(result[\"content\"]))\n",
    "    print(\"----------\")"
   ]
  },
  {
   "cell_type": "markdown",
   "metadata": {},
   "source": [
    "### Now let's do a vector search that uses the embeddings we created and inserted into `content_vector` field in the index."
   ]
  },
  {
   "cell_type": "code",
   "execution_count": null,
   "metadata": {},
   "outputs": [],
   "source": [
    "query = \"What are the best 80s movies I should look at?\"\n",
    "\n",
    "search_client = SearchClient(\n",
    "    acs_endpoint_name,\n",
    "    acs_index_name,\n",
    "    AzureKeyCredential(acs_api_key)\n",
    ")\n",
    "\n",
    "# You can see here that we are getting the embedding representation of the query.\n",
    "vector = Vector(\n",
    "    value=embeddings.embed_query(query),\n",
    "    k=5,\n",
    "    fields=\"content_vector\"\n",
    ")\n",
    "\n",
    "# Execute the search\n",
    "results = list(search_client.search(\n",
    "    search_text=\"\",\n",
    "    include_total_count=True,\n",
    "    vectors=[vector],\n",
    "    select=[\"id\", \"content\", \"original_title\"],\n",
    "))\n",
    "\n",
    "# Print count of total results.\n",
    "print(f\"Returned {len(results)} results using only vector-based search.\")\n",
    "print(\"----------\")\n",
    "# Iterate over results and print out the content.\n",
    "for result in results:\n",
    "    print(result['original_title'])\n",
    "    print(\"----------\")"
   ]
  },
  {
   "cell_type": "markdown",
   "metadata": {},
   "source": [
    "Did that return what you expected? Probably not, let's dig deeper to see why. Let's do the same search again, but this time let's return the `search score` so we can see the value returned by the cosine similarity vector store calculation."
   ]
  },
  {
   "cell_type": "markdown",
   "metadata": {},
   "source": [
    "### Try again, but this time let's add the relevance score to maybe see why"
   ]
  },
  {
   "cell_type": "code",
   "execution_count": null,
   "metadata": {},
   "outputs": [],
   "source": [
    "query = \"What are the best 80s movies I should look at?\"\n",
    "\n",
    "\n",
    "search_client = SearchClient(\n",
    "    acs_endpoint_name,\n",
    "    acs_index_name,\n",
    "    AzureKeyCredential(acs_api_key)\n",
    ")\n",
    "\n",
    "# You can see here that we are getting the embedding representation of the query.\n",
    "vector = Vector(\n",
    "    value=embeddings.embed_query(query),\n",
    "    k=5,\n",
    "    fields=\"content_vector\"\n",
    ")\n",
    "\n",
    "# Execute the search\n",
    "results = list(search_client.search(\n",
    "    search_text=\"\",\n",
    "    include_total_count=True,\n",
    "    vectors=[vector],\n",
    "    select=[\"id\", \"content\", \"original_title\"],\n",
    "))\n",
    "\n",
    "# Print count of total results.\n",
    "print(f\"Returned {len(results)} results using vector search.\")\n",
    "print(\"----------\")\n",
    "# Iterate over results and print out the id and search score.\n",
    "for result in results:  \n",
    "    print(f\"Id: {result['id']}\")\n",
    "    print(f\"Id: {result['original_title']}\")\n",
    "    print(f\"Score: {result['@search.score']}\")\n",
    "    print(\"----------\")"
   ]
  },
  {
   "cell_type": "markdown",
   "metadata": {},
   "source": [
    "If you look at the `search score` you will see the relevant ranking of the closest vector match to the query inputted. The lower the score the farther apart the two vectors are. Let's change the search term and see if we can get a higher Search Score which means a higher match and closer vector proximity."
   ]
  },
  {
   "cell_type": "markdown",
   "metadata": {},
   "source": [
    "### Try again, but this time let's add the relevance score to maybe see why"
   ]
  },
  {
   "cell_type": "code",
   "execution_count": null,
   "metadata": {},
   "outputs": [],
   "source": [
    "\n",
    "query =  \"Who are the actors in the movie Hidden Figures?\"\n",
    "\n",
    "search_client = SearchClient(\n",
    "    acs_endpoint_name,\n",
    "    acs_index_name,\n",
    "    AzureKeyCredential(acs_api_key)\n",
    ")\n",
    "\n",
    "# You can see here that we are getting the embedding representation of the query.\n",
    "vector = Vector(\n",
    "    value=embeddings.embed_query(query),\n",
    "    k=5,\n",
    "    fields=\"content_vector\"\n",
    ")\n",
    "\n",
    "# Execute the search\n",
    "results = list(search_client.search(\n",
    "    search_text=\"\",\n",
    "    include_total_count=True,\n",
    "    vectors=[vector],\n",
    "    select=[\"id\", \"content\", \"original_title\"],\n",
    "))\n",
    "\n",
    "# Print count of total results.\n",
    "print(f\"Returned {len(results)} results using vector search.\")\n",
    "print(\"----------\")\n",
    "# Iterate over results and print out the id and search score.\n",
    "for result in results:  \n",
    "    print(f\"Id: {result['id']}\")\n",
    "    print(f\"Id: {result['original_title']}\")\n",
    "    print(f\"Score: {result['@search.score']}\")\n",
    "    print(\"----------\")\n",
    "    "
   ]
  },
  {
   "cell_type": "markdown",
   "metadata": {},
   "source": [
    "**NOTE:** As you have seen from the results, different inputs can return different results, it all depends on what data is in the Vector Store. The higher the score the higher the likelihood of a match."
   ]
  },
  {
   "cell_type": "markdown",
   "metadata": {},
   "source": [
    "### Hybrid Searching using Azure Cognitive Search\n",
    "What is Hybrid Search? The search is implemented at the field level, which means you can build queries that include vector fields and searchable text fields. The queries execute in parallel and the results are merged into a single response. Optionally, add semantic search, currently in preview, for even more accuracy with L2 reranking using the same language models that power Bing.\n",
    "\n",
    "**NOTE:** Hybrid Search is a key value proposition of Azure Cognitive Search in comparison to vector only data stores. Click Hybrid Search for more details."
   ]
  },
  {
   "cell_type": "code",
   "execution_count": null,
   "metadata": {},
   "outputs": [],
   "source": [
    "# Hybrid Search\n",
    "# Let's try our original query again using Hybrid Search (ie. Combination of Text & Vector Search)\n",
    "query = \"What are the best 80s movies I should look at?\"\n",
    "\n",
    "search_client = SearchClient(\n",
    "    acs_endpoint_name,\n",
    "    acs_index_name,\n",
    "    AzureKeyCredential(acs_api_key)\n",
    ")\n",
    "\n",
    "# You can see here that we are getting the embedding representation of the query.\n",
    "vector = Vector(\n",
    "    value=embeddings.embed_query(query),\n",
    "    k=5,\n",
    "    fields=\"content_vector\"\n",
    ")\n",
    "\n",
    "# Notice we also fill in the search_text parameter with the query.\n",
    "results = list(search_client.search(\n",
    "    search_text=query,\n",
    "    include_total_count=True,\n",
    "    top=10,\n",
    "    vectors=[vector],\n",
    "    select=[\"id\", \"content\", \"original_title\"],\n",
    "))\n",
    "\n",
    "# Print count of total results.\n",
    "print(f\"Returned {len(results)} results using vector search.\")\n",
    "print(\"----------\")\n",
    "# Iterate over results and print out the id and search score.\n",
    "for result in results:  \n",
    "    print(f\"Id: {result['id']}\")\n",
    "    print(result['original_title'])\n",
    "    print(f\"Hybrid Search Score: {result['@search.score']}\")\n",
    "    print(\"----------\")"
   ]
  },
  {
   "cell_type": "markdown",
   "metadata": {},
   "source": [
    "###  Hybrid Search\n",
    "####  Let's try our more specific query again to see the difference in the score returned."
   ]
  },
  {
   "cell_type": "code",
   "execution_count": null,
   "metadata": {},
   "outputs": [],
   "source": [
    "query = \"Who are the actors in the movie Hidden Figures?\"\n",
    "\n",
    "search_client = SearchClient(\n",
    "    acs_endpoint_name,\n",
    "    acs_index_name,\n",
    "    AzureKeyCredential(acs_api_key)\n",
    ")\n",
    "\n",
    "# You can see here that we are getting the embedding representation of the query.\n",
    "vector = Vector(\n",
    "    value=embeddings.embed_query(query),\n",
    "    k=5,\n",
    "    fields=\"content_vector\"\n",
    ")\n",
    "\n",
    "# -----\n",
    "# Notice we also fill in the search_text parameter with the query along with the vector.\n",
    "# -----\n",
    "results = list(search_client.search(\n",
    "    search_text=query,\n",
    "    include_total_count=True,\n",
    "    top=10,\n",
    "    vectors=[vector],\n",
    "    select=[\"id\", \"content\", \"original_title\"],\n",
    "))\n",
    "\n",
    "# Print count of total results.\n",
    "print(f\"Returned {len(results)} results using hybrid search.\")\n",
    "print(\"----------\")\n",
    "# Iterate over results and print out the id and search score.\n",
    "for result in results:  \n",
    "    print(f\"Id: {result['id']}\")\n",
    "    print(f\"Title: {result['original_title']}\")\n",
    "    print(f\"Hybrid Search Score: {result['@search.score']}\")\n",
    "    print(\"----------\")"
   ]
  },
  {
   "cell_type": "markdown",
   "metadata": {},
   "source": [
    "### Bringing it All Together with Retrieval Augmented Generation (RAG) + Langchain (LC)\n",
    "Now that we have our Vector Store setup and data loaded, we are now ready to implement the RAG pattern using AI Orchestration. At a high-level, the following steps are required:\n",
    "\n",
    "* Ask the question\n",
    "* Create Prompt Template with inputs\n",
    "* Get Embedding representation of inputted question\n",
    "* Use embedded version of the question to search Azure Cognitive Search (ie. The Vector Store)\n",
    "* Inject the results of the search into the Prompt Template & Execute the Prompt to get the completion"
   ]
  },
  {
   "cell_type": "markdown",
   "metadata": {},
   "source": [
    "### Question to be asked"
   ]
  },
  {
   "cell_type": "code",
   "execution_count": 23,
   "metadata": {},
   "outputs": [],
   "source": [
    "question = \"List the movies about ships on the water.\""
   ]
  },
  {
   "cell_type": "code",
   "execution_count": 24,
   "metadata": {},
   "outputs": [],
   "source": [
    "# Create a prompt template with variables, note the curly braces\n",
    "from langchain.prompts import PromptTemplate\n",
    "prompt = PromptTemplate(\n",
    "    input_variables=[\"original_question\",\"search_results\"],\n",
    "    template=\"\"\"\n",
    "    Question: {original_question}\n",
    "\n",
    "    Do not use any other data.\n",
    "    Only use the movie data below when responding.\n",
    "    {search_results}\n",
    "    \"\"\",\n",
    ")\n"
   ]
  },
  {
   "cell_type": "markdown",
   "metadata": {},
   "source": [
    "### Get Embedding for the original question"
   ]
  },
  {
   "cell_type": "code",
   "execution_count": 26,
   "metadata": {},
   "outputs": [
    {
     "name": "stdout",
     "output_type": "stream",
     "text": [
      "[0.0005168093138262972, -0.0376063676924632, -1.0562264405258914e-05, -0.020479234868726725, -0.012491808842157639, -0.0019461165370657852, -0.03666358980721698, -0.0017906236114140072, -0.003931515563627048, -0.019379326094175982, 0.013814316760701509, 0.014063105628008877, 0.009591456939764624, 0.007162494445656029, 0.012675126660808557, 0.008471908433865393, 0.019536456983480506, 0.0050707056635199985, 0.015909380073159108, -0.018475831396917202, -0.020505421798073117, -0.0218410241126128, 0.013473869915391297, -0.013853599948688948, -0.0015508371413537607, -0.005060884866523139, 0.019968562738116178, -0.02257429724986171, 0.0008437536110037692, -0.02588711424421929, 0.03420189178878016, -0.02512765417762399, 0.006939893904678979, -0.0066354552513733294, -0.00533913519349847, -0.004268689275599613, 0.000246538093372597, -0.009722398105754907, -0.0028397914850656486, -0.0017251529120035389, -0.0031311362080367927, 0.012459073783490723, -0.022888555303180295, -0.027261997884101177, -0.009440874179780623, -0.00445200755991184, 0.017061664569047872, -0.002262012670452444, -0.015857002489175855, 0.01638076901578222, 0.02579545533489383, -0.0009305022964537892, -0.02718343337077153, -0.04438913443312812, 0.006710746631365331, 0.03485660041269942, -0.005925098238439712, -0.004409451238586755, 0.024027745403073245, -0.020099504835429077, 0.008196931705889015, 0.0025582675590913643, -0.01780803023964736, -0.0036368972416569497, -0.02012569176477547, -0.004563307597569711, -0.004114833382277966, -0.01148355990825497, 0.005384964648161199, -0.007712448367270093, 0.027392939981414077, 0.012583467751483097, 0.007784466148263141, 0.020937529415354022, 0.008701055707179042, -0.03420189178878016, -0.009368856864448882, -0.007044647210000252, -0.020112597368779656, 0.017585429233009, 0.016367674619786405, -0.014717812389282905, -0.0071559472476581225, 0.011896025931542153, 0.023909899564401392, -0.0010810848818148006, 0.012406697130830086, 0.009172444649802151, -0.007882671789925197, 0.006795858342692883, 0.014639247875953259, 0.011607954807569962, 0.01082885314698094, 0.016302204502452573, 0.013473869915391297, -0.0010344370274023326, 0.0065176080157175525, 0.01894722033954031, -0.01770327693432609, -0.042241694468009884, -0.009296838617794527, 0.017585429233009, -0.003911873969633327, -0.005614112387136156, -0.004543666469237299, 0.003679453097320726, 0.010959794312971224, -0.006966082231009297, 0.026109713388212413, 0.0004065321012326087, -0.011012170965631861, 0.017127134686381707, 0.03991093668424073, -0.02565141884158512, -0.015568932296526282, -0.035485116519336585, 0.017938970474315027, -0.011824007684887797, 0.0028774371750616493, -0.027942893437366834, 0.026018054478886957, 0.015752249183854584, 0.017061664569047872, -0.006664917176702601, 0.01353934003272513, 0.014534494570631986, -0.017755652655664107, -0.007817201672591366, 0.011110377072955226, 0.0011760173901392132, 0.03511848088203475, -0.0015639313045189198, 0.006475052160053776, -0.013552434428720943, -0.03703022544451882, 0.006959535033011391, -0.027681011105386268, 0.04158698584409062, -0.012537638296820369, -0.023844427584422324, 0.02126488186466842, 0.02954037808388708, -0.026816797733469695, 0.003741650314147568, -0.009624192929754158, 0.00852428508652603, 0.016511709250449882, 0.0022243669804564432, 0.010769929296322398, -0.019457890607505628, 0.021435107149968758, 0.003777659204644092, -0.00814455505322838, 0.007908860581916824, -0.003108221247874774, 0.0021490756004644423, 0.0009648743874508364, -0.01754614604502156, 0.0005532274041976903, 0.003404476369344348, 0.023883710772409767, -0.016092697891810028, 0.030116520331831462, -0.02016497495276291, 0.021343448240643298, 0.019300761580846336, 0.011306789287601957, -0.020872057435374954, -0.028833295601275035, 0.00776482455426942, -0.009323027409786154, 0.02064945829138183, -0.02650253781750588, 0.039099099033662175, -0.005208194027508188, 0.029880826791842525, 0.026345408790846587, 0.01881627824222741, -0.024538417533683795, -0.030718851371767473, 0.007313076739978722, -0.017559240441017376, 0.017231887991702978, 0.01114965932962005, -0.012511450436151358, 0.009277197955123424, -0.011084189212286216, -0.0024633350507669515, 0.02172317827394095, -0.024407475436370896, 0.0010524414726505948, 0.0002729309614326862, 0.002823423722901536, 0.007712448367270093, -0.6524024307008406, -0.024499134345696352, -0.0149927900485819, -0.019667397218148173, 0.034254269372763414, 0.012707862650798091, -0.002005040038478347, 0.024119404312398705, -0.003600888351160426, -0.011647237064234785, -0.012347773280171543, 0.022940932887163548, 3.772237495476982e-05, -0.001653135131010491, -0.0095521746830998, -0.0014469024686128808, 0.0106062530716652, -0.003463399987172237, 0.01154903095691142, -0.0019853989101459354, -0.020191163744754534, 0.02943562477856581, 0.012576920553485192, 0.001414167060699983, 0.039937125476232356, -0.009198633441793778, -0.01457377682729681, -0.027523882078726976, -0.02954037808388708, 0.013840505552693134, -0.013074498288099928, 0.025324066392270722, 0.013336380620080492, 0.022456449548544623, 0.043236849937239356, -0.00251734827009641, -0.011824007684887797, 0.04483433272111437, 0.031006922495739664, 0.02815240004800938, -0.010809212484309839, -0.005162364572845458, 0.009931904716397452, 0.0031376831732040453, -0.00615424551175336, 0.013009027239443478, 0.04237263470267755, -0.005875995184778029, 0.006537249144049964, 0.023176626427152486, 0.004537119271239393, -0.013905975670026967, -0.024774111073672733, -0.0026057338132535702, -0.00025942762749648973, -0.003676179731152427, 0.03946573467096401, -0.011830554882885704, 0.018855561430214853, 0.021094658442013314, -0.01909125497020379, 0.03179257135432659, -0.016943816867730787, -0.013107233346766844, -0.013696469990707038, 0.03132118054905825, -0.016459333529111865, 0.0019281120918175233, 0.010750288633651295, -0.03773731165242133, -0.0045960431218979355, -0.006743481690032247, -0.0001997879244394959, -0.004835011192208444, -0.0062066221644139965, 0.01974596173147782, 0.059395017946383216, 0.016184356801135485, -0.013565528824716757, -0.0056861301681292034, 0.038915781215011255, -0.01215136106552481, -0.005126355449518279, 0.008255854625224941, 0.018776996916885207, 0.001478819360360713, -0.029907013721188917, -0.008393342989213131, 0.024839583053651797, -0.0025549939600924107, -0.0016015768780995932, 0.02875473108794539, -0.007627336190281232, 0.006360478057735644, -0.007457112301964818, 0.005912003842443898, -0.002052506292640553, 0.006403034379060728, 0.029592755667870334, -0.04315828356126447, -0.00018495472001380642, -0.012400149932832179, -0.0026319221395838884, 0.010756835831649202, 0.008982579633153326, -0.013735752247371861, 0.011843649278881516, 0.019628115892805966, 0.0283357178666603, -0.017310452505032624, 0.03679453376717511, -0.02193268302193826, -0.025520478606917453, -0.0046418725765606655, 0.0036336236426579966, -0.022443355152548812, 0.023844427584422324, 0.014508306709962976, 0.009316480211788247, -0.027288186676092806, -0.001980488511647505, -0.0029412711913879676, -0.017690182538330275, -0.01648552232110349, -0.0032162479193643457, 0.007588053933616409, -0.016053414703822586, 0.0016073056763477615, -0.017925876078319213, 0.009205179708469067, -0.0035059558428360135, 0.004249048147267202, 0.0011547394623073251, -0.004402904506250157, -0.01761161802500063, 0.030456969039786907, 0.002324209654448632, -0.011653784262232693, 0.023778957467088493, -0.0013650640070383, -0.02165770629396188, 0.01818776027294501, -0.021160128559347145, -0.016721215861092428, 0.010278899691028185, -0.03024746242914436, -0.019353137302184353, -0.01800444245429409, -0.022246942937902078, 7.979241126852919e-05, -0.009689663047087991, 0.008511190690530216, 0.008707602905176949, 0.003676179731152427, -0.0024616982512674747, -0.0039806186172887306, -0.0066354552513733294, 0.0009877891729898648, 0.009323027409786154, -0.011352618742264687, 0.04072277433481928, -0.00012163228356661157, -0.021238694935322027, 0.02343850875913305, 0.025481195418930014, -0.007142852851662309, 0.017087851498394264, 0.01161450200556787, -0.011987684840867612, -0.01662955695176697, 0.011188942517607488, -0.0033586466818509644, -0.0012930462260452523, 0.012930462726113832, 0.00807908400457193, 0.03784206309509737, -0.007804107276595552, 0.01275369210546082, 0.022142189632580807, 0.0002682252501831861, -0.003967524221292917, -0.007044647210000252, -0.007286888413648405, 0.004376716179919839, 0.03475184524473291, 0.016891439283747534, 0.02096371820734565, 0.026240655485525313, -0.041613174636082245, 0.01134607154426678, -0.005964380495104535, -0.006272092747409137, 0.004802275667880219, -0.011732348775562338, -0.004216313088600285, 0.011679972122901701, -0.01677359344507568, 0.0009558721648267054, 0.014783283437939354, 0.02054470498606056, 0.03480422282871617, -0.0076862600409397745, 0.023700392953758847, -0.0328924782662321, -0.007175588375990534, -0.0073196239379766295, 0.009997375765053901, -0.013971446718683417, 0.04200599906537571, 0.029357060265236164, 0.020623269499390206, -0.018371078091595928, -0.0401466320868749, -0.004484742618578757, 0.015372520081879549, 0.0017218793130045855, 0.006867876123685931, 0.005391511846159106, 0.0017497044388343804, 0.004684428432224441, -0.0031229522105394097, 0.00427523647359752, -0.0050936203908513635, 0.0070708355363305695, -0.026869173454807715, -0.003934788696964692, 0.021186317351338774, -0.01528086117255409, -0.010756835831649202, -0.00932957460778406, -0.023150439497806093, -0.008661773450514219, -0.016825969166413702, 0.023896805168405578, 0.009015314691820242, 0.0031327727747056154, 0.00551590627981279, 0.009139709591135236, 0.019444796211509813, 0.011961496048875985, 0.020662552687377645, 0.017663993746338646, 0.02404083979906906, -0.012681673858806464, 0.02351707513510793, -0.006213169362411903, 0.023464697551124677, 0.013270910502746659, -0.017441394602345523, -0.01439045900864589, -0.016433144737120237, -0.008223119566558025, 0.0006166521042338126, -0.006114963255088537, -0.00838679672253784, -0.014351176751981068, 0.0189341259435445, -0.0032522568098608696, 0.011889478733544246, 0.020701834012719852, -0.0020901519826365535, -0.002034501963807618, -0.015176107867232818, 0.005912003842443898, 0.0012316675253834757, -0.0192352914635125, -0.008092178400567742, 0.0018593677934081016, -0.015136825610567995, -0.01786040596098538, 0.0006972629079761223, -0.015215390123897641, -0.001559021022435817, -0.0032915392993563466, 0.011326430881595679, -0.004255595345265108, -0.001318416152625832, 0.01776874705165992, 0.0037842064026419988, 0.020374481563405454, -0.0007185408940156739, -0.0283357178666603, 0.011987684840867612, 0.03205445182366192, -0.015987944586488754, -0.020492327402077307, -0.034489964775397584, 0.023687298557763033, -0.03276153803156444, 0.013100686148768937, -0.007129758921327804, 0.009545627485101895, 0.0031016742827075215, -0.002098335747303283, -0.021736270807291527, -0.00935576246845307, 0.006530701946052057, -0.008517737888528124, 0.0040984658529445075, -0.02503599526829853, -0.0052180143588437386, -0.008288590615214475, 0.00100415681873865, -0.016904533679743348, 0.018646054819572308, -0.0027481325757401894, -0.0037842064026419988, -0.007509488954625454, 0.02042685728474347, -0.008897467921825773, -0.003011652172881539, -0.00552572707680965, -0.01407620002400469, -0.018436548208929763, -0.0095521746830998, -0.005542094606143108, -0.008864732863158857, -0.013866693413362144, 0.028361906658651924, 0.007908860581916824, -0.0014755458777770867, -0.007908860581916824, -0.015018977909250908, -0.0017873500124150538, 0.0984155506040705, 0.0004975773271610913, 0.019156726950182855, 0.0067369349576956485, 0.0033488261176847587, -0.014207141189994972, -0.0015753886681846023, 0.0039184211676312345, 0.0071101177929953924, 0.0031033110822069982, 0.022325507451231724, -0.021199411747334588, 0.027235810954754785, -0.009480157367768062, 0.020020938459454195, 0.0002641333387459898, -0.016839063562409516, -0.019353137302184353, 0.030587909274454574, -0.033861444943469945, -0.012131720402853707, -0.01716641601172391, 0.004252321746266155, 0.014966601256590273, -0.013761941039363488, -0.03153068715970079, 0.03870627460436871, 0.01725807492104937, 0.023124250705814465, 0.017729465726317714, -0.03121642910638221, 0.0019706679474812993, -0.0195626439128269, -0.013958352322687604, -0.0059742012921013945, -0.004762993411215396, 0.014338082355985254, 0.014089294420000504, 0.02456460632567542, -0.006265545549411231, -0.00014301254774700675, -0.003476493917506742, 0.007299982809644218, -0.01492731899992545, 0.014377365543972695, -0.00834096726787511, 0.0024600614517679984, 0.03943954960426285, 0.024970523288319463, -0.03595650732460493, 0.039596678630922144, 0.009571816277093522, -0.006939893904678979, -0.008543925749197132, 0.03210682940764517, 0.009558721881097708, -0.0005278574776171104, 0.017205699199711353, 0.012445979387494909, 0.0040984658529445075, -0.0058792687837769825, -0.007705901169272186, 0.011607954807569962, -0.010167599187709007, -0.00286925341039492, -0.03079741588509712, -0.013565528824716757, -0.02875473108794539, -0.04373442580920885, -0.0054046062421549195, 0.001906834047570308, 0.007673165644943961, -0.022011247535267908, -0.012760239303458727, 0.023778957467088493, -0.0012603109345476818, 0.009395044725117893, -0.022796896393854835, 0.006363751656734596, 0.010841947542976755, -0.01552964910853884, -0.007692806773276373, 0.0004480650736245392, -0.0304831559691333, 0.00852428508652603, 0.01751995911567517, -0.015163013471237004, 0.0047368050848850774, -0.007614242259946727, 0.0028790739745611256, 0.010318181947693008, 0.017506864719679355, -0.0009714214690334159, -0.02280999078985065, 0.031609253535675674, 0.019248385859508315, 0.011365713138260502, 0.024695546560343087, -0.005758147949122251, 0.0024584246522685216, 0.017323546901028438, -0.04122035020678878, 0.021199411747334588, -0.013866693413362144, -0.012563827088811996, -0.03066647378778422, -0.010318181947693008, 0.016341485827794777, -0.004216313088600285, 0.006056039404429994, -0.00578433627545257, -0.005424247370487331, 0.008236213962553838, -0.006638728850372283, -0.017114040290385893, 0.04520096835841621, 0.009532533089106081, 0.02967132018119998, -0.0031376831732040453, 0.026397784512184604, -0.009656927988421073, -0.00044151802114579145, 0.015136825610567995, 0.006615814123040918, -0.023346849849807588, 0.00201322403597573, -0.017624712420996443, -0.027576257800064997, -0.009185539045797964, 0.0312426160357286, -0.003147503737370251, 0.012072796552195165, -0.012531091098822462, 0.0017873500124150538, -0.03991093668424073, -0.022181472820568246, 0.0038725917129685044, 0.005741779954127485, -0.022220754145910453, 0.0110514541536193, -0.0222993186592401, -0.0041213805802758725, 0.008805809012500315, 0.0021392550362982366, 0.0038103944961416624, -0.023032591796489005, -0.002509164505429681, -0.011935308188206976, -0.0054995387504793315, 0.0009329574374953406, 0.013329834353405201, -0.0031949699915324575, -0.0076076950619488205, -0.0037973003329765036, -0.015896285677163294, -0.04148223440141458, -0.002833244519898396, -0.01700928698506462, 0.012157908263522718, 0.008138007855230472, 0.02692155103879097, 0.015804626767837837, 0.03996331426822398, -0.0038234886593068217, -0.01776874705165992, 0.011195489715605396, 0.007889218987923104, -0.01871152493690614, -0.047505537350193736, -0.009290292351119236, 0.03281391189025722, -0.000404690760003361, 0.011404995394925324, 0.011660331460230598, 0.026227561089529502, 0.007509488954625454, 0.026188279764187295, 0.014403553404641703, 0.0062066221644139965, -0.02430272213104962, -0.007044647210000252, 0.005646847445803072, -0.0031000374832080447, -0.012819162222794653, 0.008177290111895295, -0.007777918950265234, 0.027000115552120615, -0.010174146385706913, -0.0060822277307603125, -0.017349735693020063, 0.04423200168117836, -0.009951546310391171, 0.018672243611563933, 0.006507787218720692, 0.028047646742688108, -0.01884246703421904, 0.0021818108919620127, -0.0219719662099257, -0.0159355670025055, -0.0054602560281532, -0.0016670475775100615, -0.014036917767339866, -0.02206362511925116, 0.01315960999942748, -0.01635458022379059, 0.02537644211360874, -0.017114040290385893, -0.006913705578348661, -0.004717163956552666, 0.003365193879848871, -0.017205699199711353, -0.03294485585021535, -0.021867212904604427, -0.0191043493661996, -0.0008773073604587417, 0.003964250622293964, -0.013342927818078398, 0.003268624572024982, -0.02061017510339439, -0.028178588840001007, 0.012157908263522718, -0.012413244328827993, 0.01676049904907987, 0.018580584702238473, 0.04150842319340621, 0.014259517842655608, -0.012943557122109645, -0.0015606577055199665, 0.015909380073159108, -0.008583208005861955, -0.0008126550025903482, 0.02456460632567542, -0.0025615409252596633, 0.0027792310677382834, -0.005542094606143108, -0.030587909274454574, 0.005990568821434853, -0.016420050341124422, -0.03221158457561168, 0.027707199897377896, 0.027392939981414077, 0.012884633271451102, -0.027392939981414077, 0.0077320894956025045, -0.026004960082891142, 0.03252584262893026, -0.019209102671520876, 0.015385613546552745, 0.0025926396500884114, -0.02802145795069648, -0.02026972825808418, 0.002610643978921346, -0.010796118088314025, 0.014848754486595804, 0.007771371752267327, -0.036532649572549314, 0.02830952907466867, -0.001525467214773181, 0.012773332768131923, -0.0007185408940156739, -0.023346849849807588, 0.026869173454807715, -0.009237915698458601, -0.009178991847800059, 0.04556760399571804, 0.031766382562334966, 0.02168389508595351, -0.017663993746338646, 0.0071559472476581225, 0.02604424327087858, 0.0032391626466957103, -0.004520751741905934, 0.011666878658228505, 0.019313855976842147, 0.011509748700246597, -0.01353934003272513, -0.018776996916885207, -0.01613197921715223, -0.01380122329602831, -0.015437990199213382, 0.03480422282871617, -0.004893934577205678, 0.004360348650586381, -0.01725807492104937, -0.005175458503179963, -0.0159355670025055, 0.002476429213932111, -0.009742039699748626, -0.008681414113185322, -0.03797300332976503, -0.03666358980721698, 0.00019630979826268743, -0.013788128900032498, 0.011987684840867612, -0.0011457371814755305, 0.0021032461458017127, 0.03210682940764517, 0.025310971996274908, -0.02405393419506487, 0.017834217168993752, -0.008282043417216568, 0.0030378402663812027, -0.027471504494743722, 0.009172444649802151, 0.011398448196927417, -0.014233329981986599, 0.01477018904194354, -0.037711122860429706, -0.005060884866523139, -4.6954765232556755e-05, -0.008962938039159606, 0.003227705283030028, -0.0014902767240263953, 0.010599705873667294, -0.0025484469949251585, 0.002664657431081459, -0.019994751530107803, -0.024905053170985632, -0.0071101177929953924, 0.01107764201428831, -0.014796377833935167, 0.0035321441691663316, 0.023464697551124677, -0.01284535101478628, 0.01757233483701319, -0.01719260480371554, -0.0149927900485819, -0.011751990369556058, -0.007260700552979395, -0.000579824872195214, 0.00402644807195146, -0.009977734171060182, -0.0007340901982223844, -0.030299838150482383, -0.016184356801135485, -0.02013878616077128, -0.005695950499464755, 0.023215909615139925, 0.01190911939621535, -0.002789051631904489, 0.016603368159775343, 0.030456969039786907, 0.03475184524473291, 0.014717812389282905, 6.316899377007685e-05, -0.008131460657232565, -0.008805809012500315, 0.0018642780754912045, -4.503667719889726e-05, 0.012315038221504626, 0.015254672380562464, 0.039413360812271224, 0.012590014949481004, -0.00807908400457193, -0.028073835534679733, 0.00243878352393611, -0.030116520331831462, 0.0024502408876017926, 0.01890793715155287, 0.022246942937902078, 0.027340562397430823, 0.006674737508038152, 0.011221677576274406, 0.02447294741634996, -0.020309009583426386, -0.007470206697960631, 0.005299852936833647, -0.01780803023964736, 0.006429222705391046, -0.004317792329261296, -0.0010164325821540707, 0.000588827094819345, -0.02604424327087858, -0.013814316760701509, 0.014311894495316245, 0.01313342213875847, 0.005378417915824601, 0.01401072897534824, -0.009106973601145702, -0.03103311128773129, -0.014626153479957445, -0.014744001181274531, 0.009034956285813963, -0.0016236733220965469, 0.024931241962977257, -0.02421106322172416, -0.014351176751981068, 0.006468504962055869, 0.009539080287103988, -0.016708121465096617, -0.0023062053256156967, -0.0030803963548756332, 0.00932957460778406, -0.013984541114679231, -0.015267766776558276, -0.018894842755557056, 0.009080785740476691, -0.027628633521403018, -0.010763383029647109, -0.013074498288099928, 0.006406307512398373, 0.01622363812647769, -0.009670022384416888, -0.017742558259668292, 0.002739948578242806, -0.022757615068512628, -0.0034830411155046485, -0.0020639636563062353, -0.01909125497020379, -0.0013396941968730474, -0.009342668072457256, -0.012629297206145827, -0.012046608691526156, -0.0161974511971313, -0.012059702156199352, -0.006445590234724505, -0.005839986061450851, 1.9487762052851918e-05, 0.020597080707398577, 0.0010917238457307447, -0.015477272455878205, -0.009905716855728443, -0.005912003842443898, -0.0002559495158715972, 0.0012545822527148406, 0.0011269143364775302, 0.007018458883669933, -0.015293954637227287, 0.0036827266963196793, 0.0038431300204698872, -0.012439432189497002, -0.0189341259435445, 0.00745056556962822, -0.01552964910853884, -0.017284263713041, 0.03564224927128635, 0.2227051210563645, 0.013984541114679231, -0.005990568821434853, 0.04886732845672504, -0.0033226377913544406, 0.021998155001917326, 0.006481598892390374, 0.01738901701836227, 0.02148748287130678, 0.011509748700246597, -0.011627595470241066, -0.005519179878811743, -0.011706160914893328, 0.011850196476879423, -0.011404995394925324, -0.027131057649433514, -0.026712044428148424, -0.033861444943469945, -0.01796515926630665, -0.00015579979645409804, 0.00843917244387586, -0.0056926773661271106, -0.014036917767339866, -0.027261997884101177, -0.0026924823240805995, 0.005830165730115299, 0.003214611352695523, 0.02097681074069623, 0.012439432189497002, 8.810412001775536e-06, 0.005502811883816977, -0.028178588840001007, 0.0008478455515447973, -0.007044647210000252, -0.006750028888030154, -0.0036172561133245382, 0.0018249957024110545, -0.011228224774272311, 0.0032358892805274112, 0.0021081565443001426, -0.010468764707677011, -0.007129758921327804, 0.0009640560459087616, 0.008242761160551745, 0.012596562147478911, 0.016210545593127113, -0.02258738978321229, 0.0018904664018215226, 0.03579937829794564, 0.0029641859187193326, -0.04098465480415461, -0.0036041619501593794, 0.030456969039786907, 0.0359303185326133, -0.009395044725117893, -0.007083929466665075, -0.00046566034810176373, -0.0009084059106644991, 0.02219456721656406, -0.026201372297537873, 0.02257429724986171, 0.03849677171901663, -0.02126488186466842, 0.003879138910966411, -0.005587924060805838, 0.031871134005011, -0.037527805041778786, -0.014717812389282905, 0.010802665286311932, -0.02220765974991464, -0.00812491345923466, -0.01919600827552506, -0.028885671322613053, -0.0060200307467641245, -0.004943037630867361, -0.017559240441017376, -0.00872724356784805, -0.01351315217205612, 0.015673684670524938, 0.02012569176477547, -0.022888555303180295, -0.017585429233009, -0.008936750178490596, -0.004023174472952507, -0.0027497693752396657, -0.023595639648437576, -0.005725412424794026, 0.0009485067417020511, 0.004327613126258156, 0.009093880136472506, -0.0015320142963557604, -0.030640286858437827, -0.016642651347762782, 0.01105800042029459, 0.0005544549456146341, 0.007516036152623361, 0.0153070490332231, 0.01552964910853884, -0.007588053933616409, 0.0021736271272952837, -0.026947739830782594, -0.0007471843613875435, 0.025808549730889644, -0.018135382688961758, -0.02553357114026803, -0.012740597709465007, -0.02164461189796607, 0.025232407482945262, 0.0018037176581638392, -0.023307568524465385, -0.023176626427152486, -0.013284004898742473, 0.010030110823720817, -0.012059702156199352, -0.022233848541906267, 0.009480157367768062, 0.01648552232110349, -0.005695950499464755, 0.03522323605000126, 0.008570114541188759, -0.009794416352409263, -0.007516036152623361, 0.005060884866523139, 0.005067432064521045, 0.02436819411102869, -0.02333375731645701, -0.031766382562334966, 0.005512632680813837, 0.016904533679743348, -0.023595639648437576, 0.014259517842655608, -0.01176508476555187, -0.0034830411155046485, -0.032185395783620056, -0.004406178105249111, 0.03776349671912249, 0.020204258140750348, -0.0219719662099257, -0.004546940068236253, 0.006006936350768311, 0.014613060015284248, -0.013722657851376049, -0.012000779236863426, 0.029907013721188917, 0.0239491808897436, -0.045724736747667805, 0.016708121465096617, 0.0032080641546976163, -0.013683375594711226, -0.023490886343116302, -0.0031655082990338403, -0.024355099715032875, 0.0011269143364775302, 0.0042294070189347905, 0.018371078091595928, -0.022377885035214977, -0.020374481563405454, -0.011922213792211162, -0.018724619332901954, 0.009512892426434978, -0.033285302695525563, 0.020531610590064746, 0.012930462726113832, -0.022561202853865897, -0.026279938673512755, 0.003780932803643045, -0.1667669640482285, 0.017663993746338646, 0.011935308188206976, 0.0036598119689883147, 0.0110514541536193, -0.0027825046667372365, 0.02555975993225966, 0.014717812389282905, -0.010711006376986472, -0.007306530007642124, 0.016511709250449882, 0.005345682391496376, -0.03019508484516111, -0.007882671789925197, -0.02280999078985065, -0.013048310427430918, -0.015752249183854584, 0.01738901701836227, 0.0018282691849946806, 0.0023962274354416796, 0.03551130531132821, 0.007817201672591366, -0.0087927146165045, -0.02414559310439033, 0.015804626767837837, -0.027131057649433514, -0.005862900788782216, 0.019392420490171796, -0.00738509452097177, -0.011319883683597771, 0.0008056987793405631, 0.012144814798849522, 0.03349480930616811, 0.007457112301964818, -0.0010434391918188002, 0.02338613303779503, -0.014560683362623613, -0.0016490431322617996, 0.0049692259571976795, 0.008557020145192946, 0.01763780495434702, 0.0255990431202471, 0.03454233863409037, -0.013284004898742473, -0.014809471298608363, -0.003352099716683712, 0.012059702156199352, -0.01951026819148888, 0.021042282720675296, -0.03970143007359818, -0.021448199683319336, -0.0313735581330415, -0.004674607635227581, -0.012498356040155546, 0.007843389533260374, 0.04208456544135059, -0.0005982385173183451, 0.01686525235440114, 0.00018966043126330648, -0.017952064870310838, -0.03805156970573991, 0.001613852641515014, -0.010658629724325836, -0.01524157798456665, -0.008295137813212382, -0.00885818566516095, -0.006848234995353519, 0.006232810490744314, -0.031609253535675674, 0.014050011232013063, -0.009368856864448882, -0.015346331289887922, -0.00961764573175625, -0.024918147566981446, 0.0024355099249371566, -0.003987165349625329, -0.026031148874882767, 0.015791532371842023, -0.006795858342692883, 0.010855041938972567, -0.03226395843430446, 0.05096239083786003, 0.00541442657349047, -0.005519179878811743, 0.021801742787270595, 0.0018806458376553169, -0.04703415027021586, -0.01631529703580315, -0.02239097943121079, -0.0006231991858163922, 0.029278495751906518, -0.036585027156532564, -0.013932164462018594, 0.014469024453298153, 0.006933346706681072, 0.027104868857441886, 0.008183837309893202, -0.005535547408145202, 0.027654822313394643, -0.016904533679743348, 0.004857925919539809, 0.001489458324276657, -0.002335667018114314, 0.007627336190281232, 0.011634142668238971, 0.036951662793834404, 0.04881495087274179, 0.010999077500958663, 0.040199009670858155, 0.0032260687163612055, -0.00718213557398844, 0.008681414113185322, 0.014783283437939354, 0.0033095438610199358, 0.008976032435155419, 0.013362569412072119, 0.00883854407116723, -0.01107764201428831, 0.0010442575915685386, 0.0239491808897436, 0.04360348557454119, -0.001702238184672174, 0.0056304799164696145, -0.0035812472228280144, 0.01572606225450819, -0.005970927693102442, -0.0728034186757633, 0.007529130082957866, 0.006252451619076726, -0.010704459178988567, -0.020872057435374954, 0.04106322118012949, -0.006874423321683838, 0.018986501664882516, -0.004298151200928885, -0.00595128656477003, 0.007542224478953679, -0.026096620854861835, -0.007673165644943961, 0.005944739366772123, 0.047217468088866774, -0.013709564386702853, -0.006596172529047198, -0.013565528824716757, -0.014115482280669512, -0.005247476284173011, -0.007993972293244377, 0.008360607930546214, -0.01913053815819123, -0.015032072305246722, -0.005725412424794026, 0.013591716685385766, -0.02316353203115667, 0.0016956911030895946, 0.024970523288319463, 0.005306400134831553, 0.0029150828650576495, -0.021526766059294218, -0.01998165713411199, -0.01738901701836227, -0.013231628246081836, -0.015542743504534655, -0.010350917006359926, 0.0024616982512674747, 0.024381288507024503, -0.03349480930616811, 0.005882542382775935, 0.0035157764070022192, 0.028178588840001007, -0.022705237484529375, -0.019405514886167607, -0.009859887401065713, -0.014613060015284248, 0.01998165713411199, -0.0006092866811091583, -0.01074374143565339, -0.023268285336477942, -0.010841947542976755, -0.01613197921715223, -0.014285705703324618, 0.029514191154540688, -0.008236213962553838, 0.0027743209020705075, -0.007784466148263141, -0.015464178991205009, 0.008746885161841772, -0.01635458022379059, -0.020439951680739286, -0.009997375765053901, 0.019366231698180168, 0.022246942937902078, -0.020845870506028562, -0.009296838617794527, -0.004638598977561712, 0.004468375089245298, -0.0064946932883861875, -0.036768344975183484, 0.02692155103879097, -0.030037955818501817, 0.012806068758121457, -0.015817721163833648, -0.020309009583426386, -0.03009033340248507, 0.010868135403645764, 0.015883191281167483, -0.017244982387698792, 0.001396162615451721, -0.01909125497020379, 0.0038562241836350465, -0.013500057776060307, 0.0012382146069660554, 0.04103703238813786, 0.005725412424794026, 0.02404083979906906, -0.018030629383640483, -0.02079349292204531, 0.00609859526009377, 0.003663085567987268, 0.016328391431798966, -0.003751470878313774, -0.007057741140334756, 0.010390199263024749, 0.005892362714111487, 0.001605668876848285, 0.016053414703822586, 0.014036917767339866, -0.020714928408715663, 0.020623269499390206, -0.08081703256300139, 0.01648552232110349, 0.003587794187995267, -0.003741650314147568, 0.014259517842655608, -0.0072345122266490765, 0.006900611648014155, -0.005725412424794026, 0.007705901169272186, 0.011968043246873892, -0.019876903828790718, 0.025428819697591993, 0.00946706297177225, 0.006979176161343802, -0.008871279129834146, 0.00019579829841910097, 0.00987298086573891, -0.0015712967858512376, 0.017140229082377518, -0.01262275000814792, -0.02749769328673535, -0.004975773155195586, -0.017310452505032624, 0.013290551165417762, -0.0238182387924307, 0.00555191493747866, 0.017794935843651546, 0.005152543775848598, -0.023451603155128863, 0.009067691344480879, 0.014338082355985254, -0.009165897451804244, 0.007123211723329898, 0.005001961481525904, -0.025140748573619802, -0.01065208252632793, -0.013919070066022781, 0.00595128656477003, 0.008020160153913387, 0.029776073486521254, 0.022312413055235913, 0.0009476883419523127, 0.007830295137264562, 0.0010213428642371735, -0.021147036025996567, 0.009951546310391171, -0.004995414283527997, 0.002397864234941156, 0.02731437546808443, -0.0018790090381558403, 0.018017536850289905, 0.01951026819148888, 0.0012488535708819993, -0.01063244093233421, 0.005925098238439712, -0.03655883836454094, 0.018986501664882516, -0.021408918357977133, 0.012380509270161075, 0.007195229504322945, 0.021618424968619678, 0.0014992790048581899, 0.014324988891312057, -0.01716641601172391, 0.010704459178988567, -0.005476624023147967, 0.00021277977308402176, 0.025389536509604554, 0.021867212904604427, -0.03763255648445482, -0.012858445410782092, 0.0009116794514557889, 0.0072345122266490765, 0.01852820711825522, 0.018881748359561246, -0.014495212313967163, 0.00014884354410048113, -0.008452266839871674, 0.003977345018289777, 0.015005883513255096, 0.016734310257088242, 0.0060429454740954895, -0.034463775983405956, 0.0029461813570557435, -0.0017742558492498948, 0.002101609346302236, -0.0017758926487493715, 0.025402630905600368, -0.005604291590139296, -0.003312817227188235, -0.008910562317821587, -0.0003498590536126686, 0.01096634151096913, -0.003476493917506742, -0.0036990944584837917, 0.025769266542902205, -0.025009806476306903, -0.020845870506028562, -0.0021163403089668716, 0.02562523004959349, -0.0063932135820638685, 0.01903887924886577, -0.025009806476306903, -0.00765352451661155, -0.02164461189796607, 0.028178588840001007, 0.0041672100349386025, -0.03276153803156444, 0.012642391602141641, -0.006006936350768311, 0.01202041989953453, -0.0066583699787046945, -0.018593677235589055, 0.004903755374202538, -0.006926799974344474, -0.0069464411026768855, -0.015804626767837837, -0.02430272213104962, -0.015857002489175855, 0.006730387759697742, 7.764415558121374e-05, 0.0039184211676312345, 0.01640695594512861, -0.009722398105754907, 0.05698569378663918, 0.009251009163131797, 0.022940932887163548, -0.016983098193072994, -0.007502941756627548, 0.011509748700246597, -0.019051973644861584, -0.004848105122542949, 0.005378417915824601, 0.00888437352582996, 0.0013069587889601498, 0.009224821302462787, -0.006111689656089584, 0.0063310165980676805, -0.03742304987381228, 0.0652088180098103, 0.02012569176477547, -0.006602719727045105, 0.014626153479957445, -0.039413360812271224, 0.02982844920785927, 0.00975513409574444, 0.026463256492163672, -0.004887387379207772, -0.0015303774968562838, 0.036087447559272595, 0.017244982387698792, 0.01922219706751669, -0.014940413395921262, 0.00978132195641345, -0.020374481563405454, -0.015097542422580554, 0.0015336510958552372, -0.009120067997141514, -0.002194905055127172, -0.00466478730389203, -0.0012112078808859989, 0.03661121222323373, 0.011444277651590147, -0.007241058958985675, -0.004458554292248438, 0.000787285134217432, -0.030456969039786907, -0.022613578575203915, -0.024355099715032875, 0.0057941566067881214, -0.030116520331831462, -0.012301943825508813, -0.013074498288099928, 0.020570893778052185, -0.006396487181062821, -0.012288850360835617, -0.004347254254590567, 0.006841687797355613, 0.03336386907150044, -0.005627206317470661, -0.0049692259571976795, -0.02631921999885496, -0.015673684670524938, -0.00017861225292057736, -0.0061673399077491736, -0.013277457700744566, -0.017847311564989567, -0.013722657851376049]\n"
     ]
    }
   ],
   "source": [
    "question_embedded=embeddings.embed_query(question)\n",
    "print(question_embedded)"
   ]
  },
  {
   "cell_type": "markdown",
   "metadata": {},
   "source": [
    "### Search Vector Store"
   ]
  },
  {
   "cell_type": "code",
   "execution_count": 27,
   "metadata": {},
   "outputs": [],
   "source": [
    "vector = Vector(\n",
    "    value=question_embedded,\n",
    "    k=5,\n",
    "    fields=\"content_vector\"\n",
    ")"
   ]
  },
  {
   "cell_type": "code",
   "execution_count": 28,
   "metadata": {},
   "outputs": [],
   "source": [
    "results = list(search_client.search(\n",
    "    search_text=\"\",\n",
    "    include_total_count=True,\n",
    "    vectors=[vector],\n",
    "    select=[\"original_title\"],\n",
    "))"
   ]
  },
  {
   "cell_type": "markdown",
   "metadata": {},
   "source": [
    "### Build the Prompt and Execute against the Azure OpenAI to get the completion"
   ]
  },
  {
   "cell_type": "code",
   "execution_count": null,
   "metadata": {},
   "outputs": [],
   "source": [
    "from langchain.chains import LLMChain\n",
    "chain = LLMChain(llm=llm, prompt=prompt, verbose=True)\n",
    "response = chain.run({\"original_question\": question, \"search_results\": results})\n",
    "print(response)"
   ]
  },
  {
   "cell_type": "markdown",
   "metadata": {},
   "source": [
    "### Using the `ConversationalRetrievalChain` chain   "
   ]
  },
  {
   "cell_type": "markdown",
   "metadata": {},
   "source": [
    "##### Connect to the the Azure Cognitive Service"
   ]
  },
  {
   "cell_type": "code",
   "execution_count": 30,
   "metadata": {},
   "outputs": [],
   "source": [
    "from langchain.vectorstores.azuresearch import AzureSearch\n",
    "acs = AzureSearch(azure_search_endpoint=acs_endpoint_name,\n",
    "                 azure_search_key=acs_api_key,\n",
    "                 index_name=acs_index_name,\n",
    "                 embedding_function=embeddings.embed_query)"
   ]
  },
  {
   "cell_type": "code",
   "execution_count": 31,
   "metadata": {},
   "outputs": [
    {
     "name": "stdout",
     "output_type": "stream",
     "text": [
      "movies-index-hzm\n"
     ]
    }
   ],
   "source": [
    "print(acs_index_name)"
   ]
  },
  {
   "cell_type": "markdown",
   "metadata": {},
   "source": [
    "### initiate your retriever "
   ]
  },
  {
   "cell_type": "code",
   "execution_count": 32,
   "metadata": {},
   "outputs": [],
   "source": [
    "retriever = acs.as_retriever()"
   ]
  },
  {
   "cell_type": "markdown",
   "metadata": {},
   "source": [
    "We create our  question-answering chat chain. In this case, we specify the condense question prompt, which converts the user’s question to a standalone question (using the chat history), in case the user asked a follow-up questio"
   ]
  },
  {
   "cell_type": "code",
   "execution_count": 33,
   "metadata": {},
   "outputs": [],
   "source": [
    "# Adapt if needed\n",
    "from langchain.chains import ConversationalRetrievalChain\n",
    "CONDENSE_QUESTION_PROMPT = PromptTemplate.from_template(\"\"\"Given the following conversation and a follow up question, rephrase the follow up question to be a standalone question.\n",
    "\n",
    "Chat History:\n",
    "{chat_history}\n",
    "Follow Up Input: {question}\n",
    "Standalone question:\"\"\")\n",
    "\n",
    "qa = ConversationalRetrievalChain.from_llm(llm=llm,\n",
    "                                           retriever=acs.as_retriever(),\n",
    "                                           condense_question_prompt=CONDENSE_QUESTION_PROMPT,\n",
    "                                           return_source_documents=True,\n",
    "                                           verbose=False)\n",
    "\n"
   ]
  },
  {
   "cell_type": "markdown",
   "metadata": {},
   "source": [
    "Let’s ask a question:"
   ]
  },
  {
   "cell_type": "code",
   "execution_count": 37,
   "metadata": {},
   "outputs": [
    {
     "name": "stdout",
     "output_type": "stream",
     "text": [
      "Question: Tell me the story of The Painted Veil?\n",
      "Answer: The Painted Veil is a romantic drama film released in 2006. The story revolves around a British medical doctor who finds himself in a challenging situation. He is sent to a small Chinese village to fight a cholera outbreak. However, he is also trapped in a loveless marriage to an unfaithful wife.\n",
      "\n",
      "As the doctor works tirelessly to combat the disease and save lives, he begins to develop a deeper understanding of the local culture and the people he encounters. Along the way, he forms a connection with a young Chinese woman who helps him navigate the challenges he faces.\n",
      "\n",
      "Amidst the backdrop of the cholera epidemic, the doctor's marriage undergoes a transformation. Both he and his wife confront their own flaws and shortcomings, leading to a journey of self-discovery and redemption. The film explores themes of love, forgiveness, and the complexities of human relationships.\n",
      "\n",
      "\"The Painted Veil\" is a poignant tale that delves into the emotional struggles of its characters and the transformative power of love in the face of adversity.\n"
     ]
    }
   ],
   "source": [
    "chat_history = []\n",
    "query = \"Tell me the story of The Painted Veil?\"\n",
    "result = qa({\"question\": query, \"chat_history\": chat_history})\n",
    "\n",
    "print(\"Question:\", query)\n",
    "print(\"Answer:\", result[\"answer\"])"
   ]
  },
  {
   "cell_type": "code",
   "execution_count": null,
   "metadata": {},
   "outputs": [],
   "source": [
    "print(result)"
   ]
  },
  {
   "cell_type": "markdown",
   "metadata": {},
   "source": [
    "From where, we can also ask follow up questions:"
   ]
  },
  {
   "cell_type": "code",
   "execution_count": 38,
   "metadata": {},
   "outputs": [
    {
     "name": "stdout",
     "output_type": "stream",
     "text": [
      "Question: What is its genre?\n",
      "Answer: \"The Painted Veil\" belongs to the genres of Romance and Drama.\n"
     ]
    }
   ],
   "source": [
    "chat_history = [(query, result[\"answer\"])]\n",
    "query = \"What is its genre?\"\n",
    "result = qa({\"question\": query, \"chat_history\": chat_history})\n",
    "\n",
    "print(\"Question:\", query)\n",
    "print(\"Answer:\", result[\"answer\"])"
   ]
  },
  {
   "cell_type": "code",
   "execution_count": 40,
   "metadata": {},
   "outputs": [
    {
     "name": "stdout",
     "output_type": "stream",
     "text": [
      "Question: ok thanks, can you recomend similar movies, Please on use the provided movies data?\n",
      "Answer: Based on the genres and themes of the provided movies, here are some similar movies:\n",
      "\n",
      "1. \"Team America: World Police\" (2004) - This satirical comedy film also combines action and comedy with a political theme.\n",
      "\n",
      "2. \"A Beautiful Mind\" (2001) - This drama film explores mental health issues and features a protagonist dealing with schizophrenia.\n",
      "\n",
      "3. \"Out of Africa\" (1985) - This romantic drama film follows a British protagonist in a foreign country, dealing with a complicated relationship and personal challenges.\n",
      "\n",
      "4. \"Source Code\" (2011) - This science fiction thriller involves time travel and a protagonist trying to prevent a disaster while uncovering the truth.\n",
      "\n",
      "Please note that these suggestions are based on the genres and themes of the provided movies and may not be exact matches in terms of plot or setting.\n"
     ]
    }
   ],
   "source": [
    "chat_history = [(query, result[\"answer\"])]\n",
    "query = \"ok thanks, can you recomend similar movies, Please on use the provided movies data?\"\n",
    "result = qa({\"question\": query, \"chat_history\": chat_history})\n",
    "\n",
    "print(\"Question:\", query)\n",
    "print(\"Answer:\", result[\"answer\"])"
   ]
  }
 ],
 "metadata": {
  "kernelspec": {
   "display_name": "vpandas",
   "language": "python",
   "name": "python3"
  },
  "language_info": {
   "codemirror_mode": {
    "name": "ipython",
    "version": 3
   },
   "file_extension": ".py",
   "mimetype": "text/x-python",
   "name": "python",
   "nbconvert_exporter": "python",
   "pygments_lexer": "ipython3",
   "version": "3.10.11"
  }
 },
 "nbformat": 4,
 "nbformat_minor": 2
}
